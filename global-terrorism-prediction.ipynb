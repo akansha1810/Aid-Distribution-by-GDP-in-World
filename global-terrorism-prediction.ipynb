{
 "cells": [
  {
   "cell_type": "code",
   "execution_count": 1,
   "id": "cbcc0eaa",
   "metadata": {
    "_cell_guid": "b1076dfc-b9ad-4769-8c92-a6c4dae69d19",
    "_uuid": "8f2839f25d086af736a60e9eeb907d3b93b6e0e5",
    "execution": {
     "iopub.execute_input": "2025-07-05T09:33:49.806444Z",
     "iopub.status.busy": "2025-07-05T09:33:49.806002Z",
     "iopub.status.idle": "2025-07-05T09:33:51.528417Z",
     "shell.execute_reply": "2025-07-05T09:33:51.527473Z"
    },
    "papermill": {
     "duration": 1.738671,
     "end_time": "2025-07-05T09:33:51.529922",
     "exception": false,
     "start_time": "2025-07-05T09:33:49.791251",
     "status": "completed"
    },
    "tags": []
   },
   "outputs": [
    {
     "name": "stdout",
     "output_type": "stream",
     "text": [
      "/kaggle/input/gtd/globalterrorismdb_0718dist.csv\n"
     ]
    }
   ],
   "source": [
    "# This Python 3 environment comes with many helpful analytics libraries installed\n",
    "# It is defined by the kaggle/python Docker image: https://github.com/kaggle/docker-python\n",
    "# For example, here's several helpful packages to load\n",
    "\n",
    "import numpy as np # linear algebra\n",
    "import pandas as pd # data processing, CSV file I/O (e.g. pd.read_csv)\n",
    "\n",
    "# Input data files are available in the read-only \"../input/\" directory\n",
    "# For example, running this (by clicking run or pressing Shift+Enter) will list all files under the input directory\n",
    "\n",
    "import os\n",
    "for dirname, _, filenames in os.walk('/kaggle/input'):\n",
    "    for filename in filenames:\n",
    "        print(os.path.join(dirname, filename))\n",
    "\n",
    "# You can write up to 20GB to the current directory (/kaggle/working/) that gets preserved as output when you create a version using \"Save & Run All\" \n",
    "# You can also write temporary files to /kaggle/temp/, but they won't be saved outside of the current session"
   ]
  },
  {
   "cell_type": "code",
   "execution_count": 2,
   "id": "8acb488d",
   "metadata": {
    "execution": {
     "iopub.execute_input": "2025-07-05T09:33:51.556198Z",
     "iopub.status.busy": "2025-07-05T09:33:51.555783Z",
     "iopub.status.idle": "2025-07-05T09:33:53.936484Z",
     "shell.execute_reply": "2025-07-05T09:33:53.935310Z"
    },
    "papermill": {
     "duration": 2.396598,
     "end_time": "2025-07-05T09:33:53.938616",
     "exception": false,
     "start_time": "2025-07-05T09:33:51.542018",
     "status": "completed"
    },
    "tags": []
   },
   "outputs": [],
   "source": [
    "# Importing other libraries \n",
    "import seaborn as sns\n",
    "import matplotlib.pyplot as plt\n",
    "from scipy.stats import stats\n",
    "from sklearn.preprocessing import LabelEncoder\n",
    "from sklearn.tree import DecisionTreeClassifier\n",
    "from sklearn.model_selection import train_test_split\n",
    "from sklearn.metrics import classification_report,accuracy_score\n",
    "import warnings\n",
    "warnings.filterwarnings(\"ignore\")"
   ]
  },
  {
   "cell_type": "code",
   "execution_count": 3,
   "id": "bae277c7",
   "metadata": {
    "execution": {
     "iopub.execute_input": "2025-07-05T09:33:53.975180Z",
     "iopub.status.busy": "2025-07-05T09:33:53.974737Z",
     "iopub.status.idle": "2025-07-05T09:34:00.683292Z",
     "shell.execute_reply": "2025-07-05T09:34:00.682103Z"
    },
    "papermill": {
     "duration": 6.723982,
     "end_time": "2025-07-05T09:34:00.685228",
     "exception": false,
     "start_time": "2025-07-05T09:33:53.961246",
     "status": "completed"
    },
    "tags": []
   },
   "outputs": [],
   "source": [
    "# Reading the Dataset \n",
    "data = pd.read_csv('/kaggle/input/gtd/globalterrorismdb_0718dist.csv', encoding='ISO-8859-1', low_memory=False)"
   ]
  },
  {
   "cell_type": "code",
   "execution_count": 4,
   "id": "1ee4b7db",
   "metadata": {
    "execution": {
     "iopub.execute_input": "2025-07-05T09:34:00.710279Z",
     "iopub.status.busy": "2025-07-05T09:34:00.709774Z",
     "iopub.status.idle": "2025-07-05T09:34:00.740930Z",
     "shell.execute_reply": "2025-07-05T09:34:00.740033Z"
    },
    "papermill": {
     "duration": 0.045389,
     "end_time": "2025-07-05T09:34:00.742563",
     "exception": false,
     "start_time": "2025-07-05T09:34:00.697174",
     "status": "completed"
    },
    "tags": []
   },
   "outputs": [
    {
     "data": {
      "text/html": [
       "<div>\n",
       "<style scoped>\n",
       "    .dataframe tbody tr th:only-of-type {\n",
       "        vertical-align: middle;\n",
       "    }\n",
       "\n",
       "    .dataframe tbody tr th {\n",
       "        vertical-align: top;\n",
       "    }\n",
       "\n",
       "    .dataframe thead th {\n",
       "        text-align: right;\n",
       "    }\n",
       "</style>\n",
       "<table border=\"1\" class=\"dataframe\">\n",
       "  <thead>\n",
       "    <tr style=\"text-align: right;\">\n",
       "      <th></th>\n",
       "      <th>eventid</th>\n",
       "      <th>iyear</th>\n",
       "      <th>imonth</th>\n",
       "      <th>iday</th>\n",
       "      <th>approxdate</th>\n",
       "      <th>extended</th>\n",
       "      <th>resolution</th>\n",
       "      <th>country</th>\n",
       "      <th>country_txt</th>\n",
       "      <th>region</th>\n",
       "      <th>...</th>\n",
       "      <th>addnotes</th>\n",
       "      <th>scite1</th>\n",
       "      <th>scite2</th>\n",
       "      <th>scite3</th>\n",
       "      <th>dbsource</th>\n",
       "      <th>INT_LOG</th>\n",
       "      <th>INT_IDEO</th>\n",
       "      <th>INT_MISC</th>\n",
       "      <th>INT_ANY</th>\n",
       "      <th>related</th>\n",
       "    </tr>\n",
       "  </thead>\n",
       "  <tbody>\n",
       "    <tr>\n",
       "      <th>0</th>\n",
       "      <td>197000000001</td>\n",
       "      <td>1970</td>\n",
       "      <td>7</td>\n",
       "      <td>2</td>\n",
       "      <td>NaN</td>\n",
       "      <td>0</td>\n",
       "      <td>NaN</td>\n",
       "      <td>58</td>\n",
       "      <td>Dominican Republic</td>\n",
       "      <td>2</td>\n",
       "      <td>...</td>\n",
       "      <td>NaN</td>\n",
       "      <td>NaN</td>\n",
       "      <td>NaN</td>\n",
       "      <td>NaN</td>\n",
       "      <td>PGIS</td>\n",
       "      <td>0</td>\n",
       "      <td>0</td>\n",
       "      <td>0</td>\n",
       "      <td>0</td>\n",
       "      <td>NaN</td>\n",
       "    </tr>\n",
       "    <tr>\n",
       "      <th>1</th>\n",
       "      <td>197000000002</td>\n",
       "      <td>1970</td>\n",
       "      <td>0</td>\n",
       "      <td>0</td>\n",
       "      <td>NaN</td>\n",
       "      <td>0</td>\n",
       "      <td>NaN</td>\n",
       "      <td>130</td>\n",
       "      <td>Mexico</td>\n",
       "      <td>1</td>\n",
       "      <td>...</td>\n",
       "      <td>NaN</td>\n",
       "      <td>NaN</td>\n",
       "      <td>NaN</td>\n",
       "      <td>NaN</td>\n",
       "      <td>PGIS</td>\n",
       "      <td>0</td>\n",
       "      <td>1</td>\n",
       "      <td>1</td>\n",
       "      <td>1</td>\n",
       "      <td>NaN</td>\n",
       "    </tr>\n",
       "    <tr>\n",
       "      <th>2</th>\n",
       "      <td>197001000001</td>\n",
       "      <td>1970</td>\n",
       "      <td>1</td>\n",
       "      <td>0</td>\n",
       "      <td>NaN</td>\n",
       "      <td>0</td>\n",
       "      <td>NaN</td>\n",
       "      <td>160</td>\n",
       "      <td>Philippines</td>\n",
       "      <td>5</td>\n",
       "      <td>...</td>\n",
       "      <td>NaN</td>\n",
       "      <td>NaN</td>\n",
       "      <td>NaN</td>\n",
       "      <td>NaN</td>\n",
       "      <td>PGIS</td>\n",
       "      <td>-9</td>\n",
       "      <td>-9</td>\n",
       "      <td>1</td>\n",
       "      <td>1</td>\n",
       "      <td>NaN</td>\n",
       "    </tr>\n",
       "    <tr>\n",
       "      <th>3</th>\n",
       "      <td>197001000002</td>\n",
       "      <td>1970</td>\n",
       "      <td>1</td>\n",
       "      <td>0</td>\n",
       "      <td>NaN</td>\n",
       "      <td>0</td>\n",
       "      <td>NaN</td>\n",
       "      <td>78</td>\n",
       "      <td>Greece</td>\n",
       "      <td>8</td>\n",
       "      <td>...</td>\n",
       "      <td>NaN</td>\n",
       "      <td>NaN</td>\n",
       "      <td>NaN</td>\n",
       "      <td>NaN</td>\n",
       "      <td>PGIS</td>\n",
       "      <td>-9</td>\n",
       "      <td>-9</td>\n",
       "      <td>1</td>\n",
       "      <td>1</td>\n",
       "      <td>NaN</td>\n",
       "    </tr>\n",
       "    <tr>\n",
       "      <th>4</th>\n",
       "      <td>197001000003</td>\n",
       "      <td>1970</td>\n",
       "      <td>1</td>\n",
       "      <td>0</td>\n",
       "      <td>NaN</td>\n",
       "      <td>0</td>\n",
       "      <td>NaN</td>\n",
       "      <td>101</td>\n",
       "      <td>Japan</td>\n",
       "      <td>4</td>\n",
       "      <td>...</td>\n",
       "      <td>NaN</td>\n",
       "      <td>NaN</td>\n",
       "      <td>NaN</td>\n",
       "      <td>NaN</td>\n",
       "      <td>PGIS</td>\n",
       "      <td>-9</td>\n",
       "      <td>-9</td>\n",
       "      <td>1</td>\n",
       "      <td>1</td>\n",
       "      <td>NaN</td>\n",
       "    </tr>\n",
       "  </tbody>\n",
       "</table>\n",
       "<p>5 rows × 135 columns</p>\n",
       "</div>"
      ],
      "text/plain": [
       "        eventid  iyear  imonth  iday approxdate  extended resolution  country  \\\n",
       "0  197000000001   1970       7     2        NaN         0        NaN       58   \n",
       "1  197000000002   1970       0     0        NaN         0        NaN      130   \n",
       "2  197001000001   1970       1     0        NaN         0        NaN      160   \n",
       "3  197001000002   1970       1     0        NaN         0        NaN       78   \n",
       "4  197001000003   1970       1     0        NaN         0        NaN      101   \n",
       "\n",
       "          country_txt  region  ... addnotes scite1 scite2  scite3  dbsource  \\\n",
       "0  Dominican Republic       2  ...      NaN    NaN    NaN     NaN      PGIS   \n",
       "1              Mexico       1  ...      NaN    NaN    NaN     NaN      PGIS   \n",
       "2         Philippines       5  ...      NaN    NaN    NaN     NaN      PGIS   \n",
       "3              Greece       8  ...      NaN    NaN    NaN     NaN      PGIS   \n",
       "4               Japan       4  ...      NaN    NaN    NaN     NaN      PGIS   \n",
       "\n",
       "   INT_LOG  INT_IDEO INT_MISC INT_ANY  related  \n",
       "0        0         0        0       0      NaN  \n",
       "1        0         1        1       1      NaN  \n",
       "2       -9        -9        1       1      NaN  \n",
       "3       -9        -9        1       1      NaN  \n",
       "4       -9        -9        1       1      NaN  \n",
       "\n",
       "[5 rows x 135 columns]"
      ]
     },
     "execution_count": 4,
     "metadata": {},
     "output_type": "execute_result"
    }
   ],
   "source": [
    "data.head()"
   ]
  },
  {
   "cell_type": "code",
   "execution_count": 5,
   "id": "ef634d70",
   "metadata": {
    "execution": {
     "iopub.execute_input": "2025-07-05T09:34:00.769445Z",
     "iopub.status.busy": "2025-07-05T09:34:00.769144Z",
     "iopub.status.idle": "2025-07-05T09:34:00.791300Z",
     "shell.execute_reply": "2025-07-05T09:34:00.790351Z"
    },
    "papermill": {
     "duration": 0.037455,
     "end_time": "2025-07-05T09:34:00.792814",
     "exception": false,
     "start_time": "2025-07-05T09:34:00.755359",
     "status": "completed"
    },
    "tags": []
   },
   "outputs": [
    {
     "name": "stdout",
     "output_type": "stream",
     "text": [
      "<class 'pandas.core.frame.DataFrame'>\n",
      "RangeIndex: 181691 entries, 0 to 181690\n",
      "Columns: 135 entries, eventid to related\n",
      "dtypes: float64(55), int64(22), object(58)\n",
      "memory usage: 187.1+ MB\n"
     ]
    }
   ],
   "source": [
    "data.info()"
   ]
  },
  {
   "cell_type": "code",
   "execution_count": 6,
   "id": "7798752a",
   "metadata": {
    "execution": {
     "iopub.execute_input": "2025-07-05T09:34:00.818451Z",
     "iopub.status.busy": "2025-07-05T09:34:00.817697Z",
     "iopub.status.idle": "2025-07-05T09:34:00.823147Z",
     "shell.execute_reply": "2025-07-05T09:34:00.822374Z"
    },
    "papermill": {
     "duration": 0.019256,
     "end_time": "2025-07-05T09:34:00.824357",
     "exception": false,
     "start_time": "2025-07-05T09:34:00.805101",
     "status": "completed"
    },
    "tags": []
   },
   "outputs": [
    {
     "data": {
      "text/plain": [
       "(181691, 135)"
      ]
     },
     "execution_count": 6,
     "metadata": {},
     "output_type": "execute_result"
    }
   ],
   "source": [
    "data.shape"
   ]
  },
  {
   "cell_type": "markdown",
   "id": "4aa9830d",
   "metadata": {
    "papermill": {
     "duration": 0.011638,
     "end_time": "2025-07-05T09:34:00.848482",
     "exception": false,
     "start_time": "2025-07-05T09:34:00.836844",
     "status": "completed"
    },
    "tags": []
   },
   "source": [
    "### Missing Values"
   ]
  },
  {
   "cell_type": "code",
   "execution_count": 7,
   "id": "befdaf04",
   "metadata": {
    "execution": {
     "iopub.execute_input": "2025-07-05T09:34:00.873722Z",
     "iopub.status.busy": "2025-07-05T09:34:00.873433Z",
     "iopub.status.idle": "2025-07-05T09:34:01.197197Z",
     "shell.execute_reply": "2025-07-05T09:34:01.196380Z"
    },
    "papermill": {
     "duration": 0.338048,
     "end_time": "2025-07-05T09:34:01.198655",
     "exception": false,
     "start_time": "2025-07-05T09:34:00.860607",
     "status": "completed"
    },
    "tags": []
   },
   "outputs": [
    {
     "data": {
      "text/plain": [
       "gsubname3           181671\n",
       "weapsubtype4_txt    181621\n",
       "weapsubtype4        181621\n",
       "weaptype4           181618\n",
       "weaptype4_txt       181618\n",
       "                     ...  \n",
       "suicide                  0\n",
       "success                  0\n",
       "crit3                    0\n",
       "property                 0\n",
       "eventid                  0\n",
       "Length: 135, dtype: int64"
      ]
     },
     "execution_count": 7,
     "metadata": {},
     "output_type": "execute_result"
    }
   ],
   "source": [
    "data.isnull().sum().sort_values(ascending = False)"
   ]
  },
  {
   "cell_type": "code",
   "execution_count": 8,
   "id": "e404c8f6",
   "metadata": {
    "execution": {
     "iopub.execute_input": "2025-07-05T09:34:01.275285Z",
     "iopub.status.busy": "2025-07-05T09:34:01.274928Z",
     "iopub.status.idle": "2025-07-05T09:34:01.279005Z",
     "shell.execute_reply": "2025-07-05T09:34:01.278257Z"
    },
    "papermill": {
     "duration": 0.018625,
     "end_time": "2025-07-05T09:34:01.280369",
     "exception": false,
     "start_time": "2025-07-05T09:34:01.261744",
     "status": "completed"
    },
    "tags": []
   },
   "outputs": [],
   "source": [
    "# There are a lot of null and missing values in our dataset but we cannot fill\n",
    "# These vaules by assumption or reasoning because this is a real workd data."
   ]
  },
  {
   "cell_type": "code",
   "execution_count": 9,
   "id": "b6f3a00b",
   "metadata": {
    "execution": {
     "iopub.execute_input": "2025-07-05T09:34:01.306602Z",
     "iopub.status.busy": "2025-07-05T09:34:01.306318Z",
     "iopub.status.idle": "2025-07-05T09:34:01.756764Z",
     "shell.execute_reply": "2025-07-05T09:34:01.755809Z"
    },
    "papermill": {
     "duration": 0.465132,
     "end_time": "2025-07-05T09:34:01.758481",
     "exception": false,
     "start_time": "2025-07-05T09:34:01.293349",
     "status": "completed"
    },
    "tags": []
   },
   "outputs": [
    {
     "data": {
      "text/html": [
       "<div>\n",
       "<style scoped>\n",
       "    .dataframe tbody tr th:only-of-type {\n",
       "        vertical-align: middle;\n",
       "    }\n",
       "\n",
       "    .dataframe tbody tr th {\n",
       "        vertical-align: top;\n",
       "    }\n",
       "\n",
       "    .dataframe thead th {\n",
       "        text-align: right;\n",
       "    }\n",
       "</style>\n",
       "<table border=\"1\" class=\"dataframe\">\n",
       "  <thead>\n",
       "    <tr style=\"text-align: right;\">\n",
       "      <th></th>\n",
       "      <th>count</th>\n",
       "      <th>mean</th>\n",
       "      <th>std</th>\n",
       "      <th>min</th>\n",
       "      <th>25%</th>\n",
       "      <th>50%</th>\n",
       "      <th>75%</th>\n",
       "      <th>max</th>\n",
       "    </tr>\n",
       "  </thead>\n",
       "  <tbody>\n",
       "    <tr>\n",
       "      <th>eventid</th>\n",
       "      <td>181691.0</td>\n",
       "      <td>2.002705e+11</td>\n",
       "      <td>1.325957e+09</td>\n",
       "      <td>1.970000e+11</td>\n",
       "      <td>1.991021e+11</td>\n",
       "      <td>2.009022e+11</td>\n",
       "      <td>2.014081e+11</td>\n",
       "      <td>2.017123e+11</td>\n",
       "    </tr>\n",
       "    <tr>\n",
       "      <th>iyear</th>\n",
       "      <td>181691.0</td>\n",
       "      <td>2.002639e+03</td>\n",
       "      <td>1.325943e+01</td>\n",
       "      <td>1.970000e+03</td>\n",
       "      <td>1.991000e+03</td>\n",
       "      <td>2.009000e+03</td>\n",
       "      <td>2.014000e+03</td>\n",
       "      <td>2.017000e+03</td>\n",
       "    </tr>\n",
       "    <tr>\n",
       "      <th>imonth</th>\n",
       "      <td>181691.0</td>\n",
       "      <td>6.467277e+00</td>\n",
       "      <td>3.388303e+00</td>\n",
       "      <td>0.000000e+00</td>\n",
       "      <td>4.000000e+00</td>\n",
       "      <td>6.000000e+00</td>\n",
       "      <td>9.000000e+00</td>\n",
       "      <td>1.200000e+01</td>\n",
       "    </tr>\n",
       "    <tr>\n",
       "      <th>iday</th>\n",
       "      <td>181691.0</td>\n",
       "      <td>1.550564e+01</td>\n",
       "      <td>8.814045e+00</td>\n",
       "      <td>0.000000e+00</td>\n",
       "      <td>8.000000e+00</td>\n",
       "      <td>1.500000e+01</td>\n",
       "      <td>2.300000e+01</td>\n",
       "      <td>3.100000e+01</td>\n",
       "    </tr>\n",
       "    <tr>\n",
       "      <th>extended</th>\n",
       "      <td>181691.0</td>\n",
       "      <td>4.534622e-02</td>\n",
       "      <td>2.080629e-01</td>\n",
       "      <td>0.000000e+00</td>\n",
       "      <td>0.000000e+00</td>\n",
       "      <td>0.000000e+00</td>\n",
       "      <td>0.000000e+00</td>\n",
       "      <td>1.000000e+00</td>\n",
       "    </tr>\n",
       "    <tr>\n",
       "      <th>...</th>\n",
       "      <td>...</td>\n",
       "      <td>...</td>\n",
       "      <td>...</td>\n",
       "      <td>...</td>\n",
       "      <td>...</td>\n",
       "      <td>...</td>\n",
       "      <td>...</td>\n",
       "      <td>...</td>\n",
       "    </tr>\n",
       "    <tr>\n",
       "      <th>nreleased</th>\n",
       "      <td>10400.0</td>\n",
       "      <td>-2.901827e+01</td>\n",
       "      <td>6.572012e+01</td>\n",
       "      <td>-9.900000e+01</td>\n",
       "      <td>-9.900000e+01</td>\n",
       "      <td>0.000000e+00</td>\n",
       "      <td>1.000000e+00</td>\n",
       "      <td>2.769000e+03</td>\n",
       "    </tr>\n",
       "    <tr>\n",
       "      <th>INT_LOG</th>\n",
       "      <td>181691.0</td>\n",
       "      <td>-4.543731e+00</td>\n",
       "      <td>4.543547e+00</td>\n",
       "      <td>-9.000000e+00</td>\n",
       "      <td>-9.000000e+00</td>\n",
       "      <td>-9.000000e+00</td>\n",
       "      <td>0.000000e+00</td>\n",
       "      <td>1.000000e+00</td>\n",
       "    </tr>\n",
       "    <tr>\n",
       "      <th>INT_IDEO</th>\n",
       "      <td>181691.0</td>\n",
       "      <td>-4.464398e+00</td>\n",
       "      <td>4.637152e+00</td>\n",
       "      <td>-9.000000e+00</td>\n",
       "      <td>-9.000000e+00</td>\n",
       "      <td>-9.000000e+00</td>\n",
       "      <td>0.000000e+00</td>\n",
       "      <td>1.000000e+00</td>\n",
       "    </tr>\n",
       "    <tr>\n",
       "      <th>INT_MISC</th>\n",
       "      <td>181691.0</td>\n",
       "      <td>9.000996e-02</td>\n",
       "      <td>5.684573e-01</td>\n",
       "      <td>-9.000000e+00</td>\n",
       "      <td>0.000000e+00</td>\n",
       "      <td>0.000000e+00</td>\n",
       "      <td>0.000000e+00</td>\n",
       "      <td>1.000000e+00</td>\n",
       "    </tr>\n",
       "    <tr>\n",
       "      <th>INT_ANY</th>\n",
       "      <td>181691.0</td>\n",
       "      <td>-3.945952e+00</td>\n",
       "      <td>4.691325e+00</td>\n",
       "      <td>-9.000000e+00</td>\n",
       "      <td>-9.000000e+00</td>\n",
       "      <td>0.000000e+00</td>\n",
       "      <td>0.000000e+00</td>\n",
       "      <td>1.000000e+00</td>\n",
       "    </tr>\n",
       "  </tbody>\n",
       "</table>\n",
       "<p>77 rows × 8 columns</p>\n",
       "</div>"
      ],
      "text/plain": [
       "              count          mean           std           min           25%  \\\n",
       "eventid    181691.0  2.002705e+11  1.325957e+09  1.970000e+11  1.991021e+11   \n",
       "iyear      181691.0  2.002639e+03  1.325943e+01  1.970000e+03  1.991000e+03   \n",
       "imonth     181691.0  6.467277e+00  3.388303e+00  0.000000e+00  4.000000e+00   \n",
       "iday       181691.0  1.550564e+01  8.814045e+00  0.000000e+00  8.000000e+00   \n",
       "extended   181691.0  4.534622e-02  2.080629e-01  0.000000e+00  0.000000e+00   \n",
       "...             ...           ...           ...           ...           ...   \n",
       "nreleased   10400.0 -2.901827e+01  6.572012e+01 -9.900000e+01 -9.900000e+01   \n",
       "INT_LOG    181691.0 -4.543731e+00  4.543547e+00 -9.000000e+00 -9.000000e+00   \n",
       "INT_IDEO   181691.0 -4.464398e+00  4.637152e+00 -9.000000e+00 -9.000000e+00   \n",
       "INT_MISC   181691.0  9.000996e-02  5.684573e-01 -9.000000e+00  0.000000e+00   \n",
       "INT_ANY    181691.0 -3.945952e+00  4.691325e+00 -9.000000e+00 -9.000000e+00   \n",
       "\n",
       "                    50%           75%           max  \n",
       "eventid    2.009022e+11  2.014081e+11  2.017123e+11  \n",
       "iyear      2.009000e+03  2.014000e+03  2.017000e+03  \n",
       "imonth     6.000000e+00  9.000000e+00  1.200000e+01  \n",
       "iday       1.500000e+01  2.300000e+01  3.100000e+01  \n",
       "extended   0.000000e+00  0.000000e+00  1.000000e+00  \n",
       "...                 ...           ...           ...  \n",
       "nreleased  0.000000e+00  1.000000e+00  2.769000e+03  \n",
       "INT_LOG   -9.000000e+00  0.000000e+00  1.000000e+00  \n",
       "INT_IDEO  -9.000000e+00  0.000000e+00  1.000000e+00  \n",
       "INT_MISC   0.000000e+00  0.000000e+00  1.000000e+00  \n",
       "INT_ANY    0.000000e+00  0.000000e+00  1.000000e+00  \n",
       "\n",
       "[77 rows x 8 columns]"
      ]
     },
     "execution_count": 9,
     "metadata": {},
     "output_type": "execute_result"
    }
   ],
   "source": [
    "# 5 point Summary \n",
    "data.describe().T"
   ]
  },
  {
   "cell_type": "markdown",
   "id": "5104b73c",
   "metadata": {
    "papermill": {
     "duration": 0.012358,
     "end_time": "2025-07-05T09:34:01.783700",
     "exception": false,
     "start_time": "2025-07-05T09:34:01.771342",
     "status": "completed"
    },
    "tags": []
   },
   "source": [
    "Since we have a lot of columns so we will check the significance of columns and will drop all the columns that are not significant for our data. \n",
    " 0   year            \n",
    " 1   month           \n",
    " 2   day             \n",
    " 3   country         181691 non-null  object \n",
    " 4   region          181691 non-null  object \n",
    " 5   state           181270 non-null  object \n",
    " 6   location        55495 non-null   object \n",
    " 7   extended        181691 non-null  int64  \n",
    " 8   success         181691 non-null  int64  \n",
    " 9   suicide         181691 non-null  int64  \n",
    " 10  attack_type    \n",
    " 11  target_type     \n",
    " 12  target_subtype  \n",
    " 13  target          \n",
    " 14  killed          \n",
    " 15  wounded        \n",
    " 16  weapon_type     \n",
    " 17  motive         \n",
    " 18  summary         \n",
    " 19  group          \n",
    " 20  city             \n",
    " 21  latitude        \n",
    " 22  longitude       \n",
    "\n",
    "\n",
    "Essential Columns (20-25 Most Impactful)\n",
    "1. Incident Basics\n",
    "iyear (Year of attack)\n",
    "\n",
    "imonth, iday (Month, Day)\n",
    "\n",
    "country_txt (Country name)\n",
    "\n",
    "region_txt (Region name)\n",
    "\n",
    "latitude, longitude (Location coordinates)\n",
    "\n",
    "2. Attack Characteristics\n",
    "attacktype1_txt (Attack type: Bombing, Armed Assault, etc.)\n",
    "\n",
    "targtype1_txt (Target type: Military, Civilians, Government, etc.)\n",
    "\n",
    "weaptype1_txt (Weapon used: Explosives, Firearms, etc.)\n",
    "\n",
    "suicide (1 = Suicide attack)\n",
    "\n",
    "success (1 = Successful attack)\n",
    "\n",
    "3. Perpetrator & Group Info\n",
    "gname (Terrorist group responsible)\n",
    "\n",
    "nperps (Number of perpetrators, if known)\n",
    "\n",
    "claimed (1 = Group claimed responsibility)\n",
    "\n",
    "4. Casualties & Impact\n",
    "nkill (Total fatalities)\n",
    "\n",
    "nwound (Total injured)\n",
    "\n",
    "ishostkid (1 = Hostage/kidnapping involved)\n",
    "\n",
    "property (1 = Property damage occurred)\n",
    "\n",
    "5. Additional Context\n",
    "INT_LOG (International logistics involved)\n",
    "\n",
    "INT_IDEO (International ideological ties)\n",
    "\n",
    "propextent (Scale of property damage: Minor, Major, Catastrophic)\n",
    "\n"
   ]
  },
  {
   "cell_type": "code",
   "execution_count": 10,
   "id": "b1c81bb8",
   "metadata": {
    "execution": {
     "iopub.execute_input": "2025-07-05T09:34:01.810397Z",
     "iopub.status.busy": "2025-07-05T09:34:01.809506Z",
     "iopub.status.idle": "2025-07-05T09:34:01.824723Z",
     "shell.execute_reply": "2025-07-05T09:34:01.823830Z"
    },
    "papermill": {
     "duration": 0.030274,
     "end_time": "2025-07-05T09:34:01.826280",
     "exception": false,
     "start_time": "2025-07-05T09:34:01.796006",
     "status": "completed"
    },
    "tags": []
   },
   "outputs": [],
   "source": [
    "data.drop(columns = ['eventid','country','region','attacktype1','targtype1','weaptype1','approxdate','resolution','city','specificity','vicinity','location','summary','crit1',\n",
    "                            'crit2','crit3','doubtterr','alternative','alternative_txt','multiple','attacktype2','attacktype2_txt',\n",
    "                            'attacktype3','attacktype3_txt','targsubtype1','targsubtype1_txt','corp1','natlty1','natlty1_txt',\n",
    "                            'targtype2','targtype2_txt','targsubtype2','targsubtype2_txt','corp2','target2','natlty2','natlty2_txt'\t,'targtype3',\n",
    "                            'targtype3_txt'\t,'targsubtype3','targsubtype3_txt','corp3',\t'target3','natlty3','natlty3_txt',\n",
    "                            'gsubname','gname2','gsubname2','gname3','gsubname3','guncertain1','guncertain2','guncertain3',\t\n",
    "                            'individual','nperps','nperpcap','claimmode','claimmode_txt','claim2','claimmode2','claimmode2_txt',\t\n",
    "                            'claim3','claimmode3','claimmode3_txt',\t'compclaim','weapsubtype1','weapsubtype1_txt','weaptype2',\n",
    "                            'weaptype2_txt','weapsubtype2',\t'weapsubtype2_txt',\t'weaptype3','weaptype3_txt','weapsubtype3',\t'weapsubtype3_txt',\n",
    "                            'weaptype4','weaptype4_txt','weapsubtype4',\t'weapsubtype4_txt',\t'weapdetail','nkillus','nkillter',\n",
    "                            'nwoundus',\t'nwoundte','propextent','propextent_txt','propvalue','propcomment','nhostkid','nhostkidus','nhours',\n",
    "                            'ndays','divert','kidhijcountry','ransom','ransomamt','ransomamtus','ransompaid','ransompaidus','ransomnote',\n",
    "                            'hostkidoutcome','hostkidoutcome_txt','nreleased','addnotes','scite1','scite2',\t'scite3','dbsource','INT_LOG',\n",
    "                            'INT_IDEO','INT_MISC','INT_ANY','related','latitude','longitude','target1','motive','iday','provstate'],inplace = True)"
   ]
  },
  {
   "cell_type": "code",
   "execution_count": 11,
   "id": "30bd3e9a",
   "metadata": {
    "execution": {
     "iopub.execute_input": "2025-07-05T09:34:01.852883Z",
     "iopub.status.busy": "2025-07-05T09:34:01.852489Z",
     "iopub.status.idle": "2025-07-05T09:34:01.859012Z",
     "shell.execute_reply": "2025-07-05T09:34:01.858095Z"
    },
    "papermill": {
     "duration": 0.021462,
     "end_time": "2025-07-05T09:34:01.860249",
     "exception": false,
     "start_time": "2025-07-05T09:34:01.838787",
     "status": "completed"
    },
    "tags": []
   },
   "outputs": [
    {
     "data": {
      "text/plain": [
       "iyear                int64\n",
       "imonth               int64\n",
       "extended             int64\n",
       "country_txt         object\n",
       "region_txt          object\n",
       "success              int64\n",
       "suicide              int64\n",
       "attacktype1_txt     object\n",
       "targtype1_txt       object\n",
       "gname               object\n",
       "claimed            float64\n",
       "weaptype1_txt       object\n",
       "nkill              float64\n",
       "nwound             float64\n",
       "property             int64\n",
       "ishostkid          float64\n",
       "dtype: object"
      ]
     },
     "execution_count": 11,
     "metadata": {},
     "output_type": "execute_result"
    }
   ],
   "source": [
    "data.dtypes"
   ]
  },
  {
   "cell_type": "code",
   "execution_count": 12,
   "id": "411c48a8",
   "metadata": {
    "execution": {
     "iopub.execute_input": "2025-07-05T09:34:01.886429Z",
     "iopub.status.busy": "2025-07-05T09:34:01.886150Z",
     "iopub.status.idle": "2025-07-05T09:34:01.891334Z",
     "shell.execute_reply": "2025-07-05T09:34:01.890659Z"
    },
    "papermill": {
     "duration": 0.019663,
     "end_time": "2025-07-05T09:34:01.892551",
     "exception": false,
     "start_time": "2025-07-05T09:34:01.872888",
     "status": "completed"
    },
    "tags": []
   },
   "outputs": [
    {
     "data": {
      "text/plain": [
       "(181691, 16)"
      ]
     },
     "execution_count": 12,
     "metadata": {},
     "output_type": "execute_result"
    }
   ],
   "source": [
    "data.shape"
   ]
  },
  {
   "cell_type": "code",
   "execution_count": 13,
   "id": "869134ca",
   "metadata": {
    "execution": {
     "iopub.execute_input": "2025-07-05T09:34:01.919181Z",
     "iopub.status.busy": "2025-07-05T09:34:01.918887Z",
     "iopub.status.idle": "2025-07-05T09:34:01.973161Z",
     "shell.execute_reply": "2025-07-05T09:34:01.972396Z"
    },
    "papermill": {
     "duration": 0.069337,
     "end_time": "2025-07-05T09:34:01.974659",
     "exception": false,
     "start_time": "2025-07-05T09:34:01.905322",
     "status": "completed"
    },
    "tags": []
   },
   "outputs": [
    {
     "data": {
      "text/plain": [
       "iyear                  0\n",
       "imonth                 0\n",
       "extended               0\n",
       "country_txt            0\n",
       "region_txt             0\n",
       "success                0\n",
       "suicide                0\n",
       "attacktype1_txt        0\n",
       "targtype1_txt          0\n",
       "gname                  0\n",
       "claimed            66120\n",
       "weaptype1_txt          0\n",
       "nkill              10313\n",
       "nwound             16311\n",
       "property               0\n",
       "ishostkid            178\n",
       "dtype: int64"
      ]
     },
     "execution_count": 13,
     "metadata": {},
     "output_type": "execute_result"
    }
   ],
   "source": [
    "data.isnull().sum()"
   ]
  },
  {
   "cell_type": "markdown",
   "id": "f6ba0804",
   "metadata": {
    "papermill": {
     "duration": 0.012482,
     "end_time": "2025-07-05T09:34:01.999963",
     "exception": false,
     "start_time": "2025-07-05T09:34:01.987481",
     "status": "completed"
    },
    "tags": []
   },
   "source": [
    "### Data Preprocessing "
   ]
  },
  {
   "cell_type": "markdown",
   "id": "56cbfaf4",
   "metadata": {
    "papermill": {
     "duration": 0.012341,
     "end_time": "2025-07-05T09:34:02.025022",
     "exception": false,
     "start_time": "2025-07-05T09:34:02.012681",
     "status": "completed"
    },
    "tags": []
   },
   "source": [
    "##### Columns Defination \n",
    "\n",
    "iyear : Year in which the incident occurred.\n",
    "imonth : Month in which the incident occurred (1–12, 0 if unknown)\n",
    "iday : Day of the month when the incident occurred (1–31, 0 if unknown)\n",
    "\n",
    "extended column :- i am keeping this column since this column telling me if terrorist incident extended 24 hours or not. \n",
    "The extended column is a binary flag that helps identify whether a terrorist event continued beyond a single day. For example, \n",
    "a hijacking or hostage situation that lasts several days would be marked as 1. This helps in analyzing the duration and complexity of attacks\n",
    "It may help predict gname, especially for groups that are known for long-duration or complex operations\n",
    "\n",
    "country column :- most terrorist groups operate regionally.Terrorist groups usually have geographically concentrated areas of operation — based on:\n",
    "Ethnic, political, or religious presence\n",
    "Historical conflicts\n",
    "Border accessibility\n",
    "example: Taliban - Afghanistan, Pakistan\n",
    "\n",
    "region: - It indicates the broad geographical region where the terrorist incident occurred, using a numeric code.\n",
    "It is accompanied by region_txt, which is the human-readable version.\n",
    "Why region Is Important When Predicting gname\n",
    "Most terror groups are active in specific regions.\n",
    "ISIS → Middle East\n",
    "Al-Shabaab → Sub-Saharan Africa\n",
    "keep both country and region intially after modeling we can identify if \n",
    "region is playing any role or not\n",
    "\n",
    "success: - In the Global Terrorism Database (GTD), the success column indicates whether the terrorist attack achieved its intended outcome\n",
    "how its useful?\n",
    "Some groups like Al-Qaeda or ISIS may have higher success rates due to better planning or suicide missions, \n",
    "while newer or fragmented groups may fail more often.\n",
    "Value\tMeaning\n",
    "1\tAttack was successful\n",
    "0\tAttack was unsuccessful\n",
    "\n",
    "sucide: In the Global Terrorism Database (GTD), the suicide column indicates whether the attack was a suicide attack\n",
    "— meaning the perpetrator(s) intended to die as part of carrying out the attack\n",
    "1\tYes – It was a suicide attack\n",
    "0\tNo – It was not a suicide attack\n",
    "why its important?\n",
    "Some groups are known for suicide attacks (e.g., ISIS, Taliban)\n",
    "Indicates willingness to sacrifice members\n",
    "Models can learn which groups use suicide tactics regularly\n",
    "\n",
    "attacktype1:  the column attacktype1 indicates the primary method used to carry out the terrorist attack.\n",
    "why its important?\n",
    "Different groups prefer different methods\n",
    "Some groups specialize in suicide bombings, others in kidnappings\n",
    "Taliban → Bombing/Explosion, Armed Assault\n",
    "\n",
    "targtype1: the target-related columns describe who or what was attacked — essentially, the primary victim or target category\n",
    "why its important?\n",
    "Some groups focus on military, others on civilians\n",
    "Each group has preferred targets\n",
    "\n",
    "#claimed: the claimed column indicates whether the terrorist group publicly claimed responsibility for the attack.\n",
    "#1\tYes – The attack was claimed\n",
    "#0\tNo – The attack was not claimed\n",
    "#-9\tUnknown – It’s not known if it was claimed\n",
    "#why its important?\n",
    "#Some groups regularly claim attacks (e.g., ISIS, Taliban)\n",
    "#other avoid\n",
    "#sometimes multiplegroups claim the attacks\n",
    "\n",
    "#weaptype1 \n",
    "#the column weaptype1 refers to the primary weapon type used in a terrorist attack.\n",
    "#the column weaptype1 refers to the primary weapon type used in a terrorist attack.\n",
    "#ex: \tBiological,\tBiological\n",
    "#wht its important\n",
    "#Group tactics differ by weapon\n",
    "\n",
    "#nkill ; this column stands for Number of People Killed in a terrorist incident\n",
    "#zero means No one was killed,A positive number means confirmed fatalities and NaN means Unknown or not reported by sources\n",
    "#why this column is important for us?\n",
    "#Different groups have different attack styles.\n",
    "#Some groups tend to carry out high-fatality attacks (e.g., suicide bombings), while others may target infrastructure with minimal loss of life.\n",
    "#nkill helps capture that pattern\n",
    "\n",
    "#nwound : Number of People Wounded in a terrorist attack\n",
    "#why its important?\n",
    "#help identify severity of attacks along with nkill.\n",
    "#Group behavior, some groups wound more than kill\n",
    "\n",
    "#property: Indicates whether the incident resulted in property damage\n",
    "#1 = Yes,0 = No,-9 = Unknown\n",
    "#why its important: Some groups target infrastructure (e.g., oil pipelines, government buildings), while others may focus on casualties.\n",
    "#helps in identifying Which groups pose the highest economic threat\n",
    "\n",
    "#ishostkid: Indicates whether hostages were taken or a kidnapping occurred during the incident\n",
    "#0 = no hostage, 1 = yes,-9 = unknown\n",
    "#Hostage-taking is a distinct tactic, often used to:\n",
    "#Gain leverage (ransom, political demands)\n",
    "#Intimidate the population"
   ]
  },
  {
   "cell_type": "code",
   "execution_count": 14,
   "id": "154941b4",
   "metadata": {
    "execution": {
     "iopub.execute_input": "2025-07-05T09:34:02.051432Z",
     "iopub.status.busy": "2025-07-05T09:34:02.051130Z",
     "iopub.status.idle": "2025-07-05T09:34:02.056230Z",
     "shell.execute_reply": "2025-07-05T09:34:02.055553Z"
    },
    "papermill": {
     "duration": 0.019938,
     "end_time": "2025-07-05T09:34:02.057510",
     "exception": false,
     "start_time": "2025-07-05T09:34:02.037572",
     "status": "completed"
    },
    "tags": []
   },
   "outputs": [],
   "source": [
    "# Renaming The Columns :\n",
    "data.rename(columns = {\n",
    "                       'iyear':'year',\n",
    "                       'imonth':'month',\n",
    "                       'extended':'multi_day_attack',\n",
    "                       'country_txt':'country',\n",
    "                       'region_txt':'region',\n",
    "                       'success':'attack_successful',\n",
    "                       'suicide':'suicide_attack',\n",
    "                       'attacktype1_txt':'attack_type',\n",
    "                       'targtype1_txt':'primary_target_type',\n",
    "                       'claimed':'responsibility_claimed',\n",
    "                       'weaptype1_txt': 'weapon_type',\n",
    "                       'nkill': 'num_killed',\n",
    "                       'nwound':'num_wounded',\n",
    "                       'property':'property_damage',\n",
    "                       'ishostkid': 'hostage_or_kidnapping'},inplace = True)\n",
    "\n",
    "# Renaming the columns"
   ]
  },
  {
   "cell_type": "code",
   "execution_count": 15,
   "id": "76e2339e",
   "metadata": {
    "execution": {
     "iopub.execute_input": "2025-07-05T09:34:02.084107Z",
     "iopub.status.busy": "2025-07-05T09:34:02.083833Z",
     "iopub.status.idle": "2025-07-05T09:34:02.089078Z",
     "shell.execute_reply": "2025-07-05T09:34:02.088398Z"
    },
    "papermill": {
     "duration": 0.020161,
     "end_time": "2025-07-05T09:34:02.090462",
     "exception": false,
     "start_time": "2025-07-05T09:34:02.070301",
     "status": "completed"
    },
    "tags": []
   },
   "outputs": [
    {
     "data": {
      "text/plain": [
       "Index(['year', 'month', 'multi_day_attack', 'country', 'region',\n",
       "       'attack_successful', 'suicide_attack', 'attack_type',\n",
       "       'primary_target_type', 'gname', 'responsibility_claimed', 'weapon_type',\n",
       "       'num_killed', 'num_wounded', 'property_damage',\n",
       "       'hostage_or_kidnapping'],\n",
       "      dtype='object')"
      ]
     },
     "execution_count": 15,
     "metadata": {},
     "output_type": "execute_result"
    }
   ],
   "source": [
    "data.columns"
   ]
  },
  {
   "cell_type": "markdown",
   "id": "fd3f3d83",
   "metadata": {
    "papermill": {
     "duration": 0.012523,
     "end_time": "2025-07-05T09:34:02.115813",
     "exception": false,
     "start_time": "2025-07-05T09:34:02.103290",
     "status": "completed"
    },
    "tags": []
   },
   "source": [
    "### Dealing with Target Column : Group Name"
   ]
  },
  {
   "cell_type": "code",
   "execution_count": 16,
   "id": "9d820ce1",
   "metadata": {
    "execution": {
     "iopub.execute_input": "2025-07-05T09:34:02.143115Z",
     "iopub.status.busy": "2025-07-05T09:34:02.142443Z",
     "iopub.status.idle": "2025-07-05T09:34:02.166361Z",
     "shell.execute_reply": "2025-07-05T09:34:02.165734Z"
    },
    "papermill": {
     "duration": 0.038957,
     "end_time": "2025-07-05T09:34:02.167867",
     "exception": false,
     "start_time": "2025-07-05T09:34:02.128910",
     "status": "completed"
    },
    "tags": []
   },
   "outputs": [],
   "source": [
    "data = data[data['gname'] != 'Unknown']"
   ]
  },
  {
   "cell_type": "code",
   "execution_count": 17,
   "id": "684e182e",
   "metadata": {
    "execution": {
     "iopub.execute_input": "2025-07-05T09:34:02.194864Z",
     "iopub.status.busy": "2025-07-05T09:34:02.194566Z",
     "iopub.status.idle": "2025-07-05T09:34:02.204427Z",
     "shell.execute_reply": "2025-07-05T09:34:02.203669Z"
    },
    "papermill": {
     "duration": 0.024861,
     "end_time": "2025-07-05T09:34:02.205899",
     "exception": false,
     "start_time": "2025-07-05T09:34:02.181038",
     "status": "completed"
    },
    "tags": []
   },
   "outputs": [],
   "source": [
    "group_counts = data['gname'].value_counts()"
   ]
  },
  {
   "cell_type": "code",
   "execution_count": 18,
   "id": "0a62c3fc",
   "metadata": {
    "execution": {
     "iopub.execute_input": "2025-07-05T09:34:02.233234Z",
     "iopub.status.busy": "2025-07-05T09:34:02.232932Z",
     "iopub.status.idle": "2025-07-05T09:34:02.238514Z",
     "shell.execute_reply": "2025-07-05T09:34:02.237646Z"
    },
    "papermill": {
     "duration": 0.020946,
     "end_time": "2025-07-05T09:34:02.239928",
     "exception": false,
     "start_time": "2025-07-05T09:34:02.218982",
     "status": "completed"
    },
    "tags": []
   },
   "outputs": [
    {
     "name": "stdout",
     "output_type": "stream",
     "text": [
      "Index(['Taliban', 'Islamic State of Iraq and the Levant (ISIL)',\n",
      "       'Shining Path (SL)', 'Farabundo Marti National Liberation Front (FMLN)',\n",
      "       'Al-Shabaab', 'New People's Army (NPA)', 'Irish Republican Army (IRA)',\n",
      "       'Revolutionary Armed Forces of Colombia (FARC)', 'Boko Haram',\n",
      "       'Kurdistan Workers' Party (PKK)', 'Basque Fatherland and Freedom (ETA)',\n",
      "       'Communist Party of India - Maoist (CPI-Maoist)', 'Maoists',\n",
      "       'Liberation Tigers of Tamil Eelam (LTTE)',\n",
      "       'National Liberation Army of Colombia (ELN)',\n",
      "       'Tehrik-i-Taliban Pakistan (TTP)', 'Palestinians',\n",
      "       'Houthi extremists (Ansar Allah)',\n",
      "       'Al-Qaida in the Arabian Peninsula (AQAP)',\n",
      "       'Nicaraguan Democratic Force (FDN)'],\n",
      "      dtype='object', name='gname')\n"
     ]
    }
   ],
   "source": [
    "top20_groups = group_counts.head(20).index\n",
    "print(top20_groups)"
   ]
  },
  {
   "cell_type": "code",
   "execution_count": 19,
   "id": "a71fde3b",
   "metadata": {
    "execution": {
     "iopub.execute_input": "2025-07-05T09:34:02.267824Z",
     "iopub.status.busy": "2025-07-05T09:34:02.267467Z",
     "iopub.status.idle": "2025-07-05T09:34:02.280467Z",
     "shell.execute_reply": "2025-07-05T09:34:02.279570Z"
    },
    "papermill": {
     "duration": 0.028411,
     "end_time": "2025-07-05T09:34:02.282133",
     "exception": false,
     "start_time": "2025-07-05T09:34:02.253722",
     "status": "completed"
    },
    "tags": []
   },
   "outputs": [],
   "source": [
    "data['terrorist_group_mod'] = data['gname'].where(data['gname'].isin(top20_groups),'other')\n",
    "\n",
    "#Naming the terrorist groups as 'other' which are not in top20 "
   ]
  },
  {
   "cell_type": "code",
   "execution_count": 20,
   "id": "1b61a43d",
   "metadata": {
    "execution": {
     "iopub.execute_input": "2025-07-05T09:34:02.309652Z",
     "iopub.status.busy": "2025-07-05T09:34:02.309345Z",
     "iopub.status.idle": "2025-07-05T09:34:02.313471Z",
     "shell.execute_reply": "2025-07-05T09:34:02.312569Z"
    },
    "papermill": {
     "duration": 0.01949,
     "end_time": "2025-07-05T09:34:02.314976",
     "exception": false,
     "start_time": "2025-07-05T09:34:02.295486",
     "status": "completed"
    },
    "tags": []
   },
   "outputs": [],
   "source": [
    "le = LabelEncoder()"
   ]
  },
  {
   "cell_type": "code",
   "execution_count": 21,
   "id": "be83cf34",
   "metadata": {
    "execution": {
     "iopub.execute_input": "2025-07-05T09:34:02.341989Z",
     "iopub.status.busy": "2025-07-05T09:34:02.341730Z",
     "iopub.status.idle": "2025-07-05T09:34:02.361273Z",
     "shell.execute_reply": "2025-07-05T09:34:02.360438Z"
    },
    "papermill": {
     "duration": 0.034722,
     "end_time": "2025-07-05T09:34:02.362809",
     "exception": false,
     "start_time": "2025-07-05T09:34:02.328087",
     "status": "completed"
    },
    "tags": []
   },
   "outputs": [],
   "source": [
    "data['terrorist_group_encoded'] = le.fit_transform(data['terrorist_group_mod'])"
   ]
  },
  {
   "cell_type": "code",
   "execution_count": 22,
   "id": "d876581a",
   "metadata": {
    "execution": {
     "iopub.execute_input": "2025-07-05T09:34:02.389913Z",
     "iopub.status.busy": "2025-07-05T09:34:02.389309Z",
     "iopub.status.idle": "2025-07-05T09:34:02.398719Z",
     "shell.execute_reply": "2025-07-05T09:34:02.398091Z"
    },
    "papermill": {
     "duration": 0.024265,
     "end_time": "2025-07-05T09:34:02.400203",
     "exception": false,
     "start_time": "2025-07-05T09:34:02.375938",
     "status": "completed"
    },
    "tags": []
   },
   "outputs": [],
   "source": [
    "# Lets drop now gname and terrorist_group_mod\n",
    "data.drop(['gname','terrorist_group_mod'],axis =1, inplace =True)"
   ]
  },
  {
   "cell_type": "code",
   "execution_count": 23,
   "id": "5b47ab82",
   "metadata": {
    "execution": {
     "iopub.execute_input": "2025-07-05T09:34:02.427489Z",
     "iopub.status.busy": "2025-07-05T09:34:02.427214Z",
     "iopub.status.idle": "2025-07-05T09:34:02.434008Z",
     "shell.execute_reply": "2025-07-05T09:34:02.433021Z"
    },
    "papermill": {
     "duration": 0.021664,
     "end_time": "2025-07-05T09:34:02.435399",
     "exception": false,
     "start_time": "2025-07-05T09:34:02.413735",
     "status": "completed"
    },
    "tags": []
   },
   "outputs": [
    {
     "data": {
      "text/plain": [
       "array([20, 13, 15,  7,  2, 12, 16, 10, 17,  5, 11, 14,  9, 18,  0,  4,  6,\n",
       "       19,  1,  3,  8])"
      ]
     },
     "execution_count": 23,
     "metadata": {},
     "output_type": "execute_result"
    }
   ],
   "source": [
    "data['terrorist_group_encoded'].unique()"
   ]
  },
  {
   "cell_type": "code",
   "execution_count": 24,
   "id": "e508a37a",
   "metadata": {
    "execution": {
     "iopub.execute_input": "2025-07-05T09:34:02.462549Z",
     "iopub.status.busy": "2025-07-05T09:34:02.462119Z",
     "iopub.status.idle": "2025-07-05T09:34:02.466917Z",
     "shell.execute_reply": "2025-07-05T09:34:02.465917Z"
    },
    "papermill": {
     "duration": 0.019548,
     "end_time": "2025-07-05T09:34:02.468188",
     "exception": false,
     "start_time": "2025-07-05T09:34:02.448640",
     "status": "completed"
    },
    "tags": []
   },
   "outputs": [
    {
     "name": "stdout",
     "output_type": "stream",
     "text": [
      "{'Al-Qaida in the Arabian Peninsula (AQAP)': 0, 'Al-Shabaab': 1, 'Basque Fatherland and Freedom (ETA)': 2, 'Boko Haram': 3, 'Communist Party of India - Maoist (CPI-Maoist)': 4, 'Farabundo Marti National Liberation Front (FMLN)': 5, 'Houthi extremists (Ansar Allah)': 6, 'Irish Republican Army (IRA)': 7, 'Islamic State of Iraq and the Levant (ISIL)': 8, \"Kurdistan Workers' Party (PKK)\": 9, 'Liberation Tigers of Tamil Eelam (LTTE)': 10, 'Maoists': 11, 'National Liberation Army of Colombia (ELN)': 12, \"New People's Army (NPA)\": 13, 'Nicaraguan Democratic Force (FDN)': 14, 'Palestinians': 15, 'Revolutionary Armed Forces of Colombia (FARC)': 16, 'Shining Path (SL)': 17, 'Taliban': 18, 'Tehrik-i-Taliban Pakistan (TTP)': 19, 'other': 20}\n"
     ]
    }
   ],
   "source": [
    "label_mapping = dict(zip(le.classes_, le.transform(le.classes_)))\n",
    "print(label_mapping)"
   ]
  },
  {
   "cell_type": "markdown",
   "id": "319f1f90",
   "metadata": {
    "papermill": {
     "duration": 0.012929,
     "end_time": "2025-07-05T09:34:02.494283",
     "exception": false,
     "start_time": "2025-07-05T09:34:02.481354",
     "status": "completed"
    },
    "tags": []
   },
   "source": [
    "### Missing Vues Treatment"
   ]
  },
  {
   "cell_type": "code",
   "execution_count": 25,
   "id": "de7d2958",
   "metadata": {
    "execution": {
     "iopub.execute_input": "2025-07-05T09:34:02.521903Z",
     "iopub.status.busy": "2025-07-05T09:34:02.520968Z",
     "iopub.status.idle": "2025-07-05T09:34:02.548866Z",
     "shell.execute_reply": "2025-07-05T09:34:02.548155Z"
    },
    "papermill": {
     "duration": 0.043038,
     "end_time": "2025-07-05T09:34:02.550207",
     "exception": false,
     "start_time": "2025-07-05T09:34:02.507169",
     "status": "completed"
    },
    "tags": []
   },
   "outputs": [
    {
     "data": {
      "text/plain": [
       "year                           0\n",
       "month                          0\n",
       "multi_day_attack               0\n",
       "country                        0\n",
       "region                         0\n",
       "attack_successful              0\n",
       "suicide_attack                 0\n",
       "attack_type                    0\n",
       "primary_target_type            0\n",
       "responsibility_claimed     42971\n",
       "weapon_type                    0\n",
       "num_killed                  7068\n",
       "num_wounded                11819\n",
       "property_damage                0\n",
       "hostage_or_kidnapping        145\n",
       "terrorist_group_encoded        0\n",
       "dtype: int64"
      ]
     },
     "execution_count": 25,
     "metadata": {},
     "output_type": "execute_result"
    }
   ],
   "source": [
    "data.isnull().sum()"
   ]
  },
  {
   "cell_type": "code",
   "execution_count": 26,
   "id": "78a0f227",
   "metadata": {
    "execution": {
     "iopub.execute_input": "2025-07-05T09:34:02.577773Z",
     "iopub.status.busy": "2025-07-05T09:34:02.577499Z",
     "iopub.status.idle": "2025-07-05T09:34:02.583685Z",
     "shell.execute_reply": "2025-07-05T09:34:02.582987Z"
    },
    "papermill": {
     "duration": 0.021705,
     "end_time": "2025-07-05T09:34:02.585196",
     "exception": false,
     "start_time": "2025-07-05T09:34:02.563491",
     "status": "completed"
    },
    "tags": []
   },
   "outputs": [
    {
     "data": {
      "text/plain": [
       "array([nan,  0.,  1., -9.])"
      ]
     },
     "execution_count": 26,
     "metadata": {},
     "output_type": "execute_result"
    }
   ],
   "source": [
    "# Responsibility_claimed\n",
    "data['responsibility_claimed'].unique()"
   ]
  },
  {
   "cell_type": "markdown",
   "id": "9580213e",
   "metadata": {
    "papermill": {
     "duration": 0.013502,
     "end_time": "2025-07-05T09:34:02.612179",
     "exception": false,
     "start_time": "2025-07-05T09:34:02.598677",
     "status": "completed"
    },
    "tags": []
   },
   "source": [
    "we will impute null values with -9 which means unknown column. We are doing this so we could combine nan and -9 into one single category -9 or unknown."
   ]
  },
  {
   "cell_type": "code",
   "execution_count": 27,
   "id": "75585665",
   "metadata": {
    "execution": {
     "iopub.execute_input": "2025-07-05T09:34:02.639505Z",
     "iopub.status.busy": "2025-07-05T09:34:02.639255Z",
     "iopub.status.idle": "2025-07-05T09:34:02.644993Z",
     "shell.execute_reply": "2025-07-05T09:34:02.644186Z"
    },
    "papermill": {
     "duration": 0.021111,
     "end_time": "2025-07-05T09:34:02.646487",
     "exception": false,
     "start_time": "2025-07-05T09:34:02.625376",
     "status": "completed"
    },
    "tags": []
   },
   "outputs": [],
   "source": [
    "data['responsibility_claimed'] = data['responsibility_claimed'].fillna(-9)"
   ]
  },
  {
   "cell_type": "code",
   "execution_count": 28,
   "id": "8ec4b6a7",
   "metadata": {
    "execution": {
     "iopub.execute_input": "2025-07-05T09:34:02.674599Z",
     "iopub.status.busy": "2025-07-05T09:34:02.674019Z",
     "iopub.status.idle": "2025-07-05T09:34:02.680612Z",
     "shell.execute_reply": "2025-07-05T09:34:02.679889Z"
    },
    "papermill": {
     "duration": 0.021949,
     "end_time": "2025-07-05T09:34:02.682087",
     "exception": false,
     "start_time": "2025-07-05T09:34:02.660138",
     "status": "completed"
    },
    "tags": []
   },
   "outputs": [
    {
     "data": {
      "text/plain": [
       "array([-9.,  0.,  1.])"
      ]
     },
     "execution_count": 28,
     "metadata": {},
     "output_type": "execute_result"
    }
   ],
   "source": [
    "# After Conversion \n",
    "data['responsibility_claimed'].unique()"
   ]
  },
  {
   "cell_type": "code",
   "execution_count": 29,
   "id": "dbb6439b",
   "metadata": {
    "execution": {
     "iopub.execute_input": "2025-07-05T09:34:02.709710Z",
     "iopub.status.busy": "2025-07-05T09:34:02.709378Z",
     "iopub.status.idle": "2025-07-05T09:34:02.715330Z",
     "shell.execute_reply": "2025-07-05T09:34:02.714606Z"
    },
    "papermill": {
     "duration": 0.021248,
     "end_time": "2025-07-05T09:34:02.716739",
     "exception": false,
     "start_time": "2025-07-05T09:34:02.695491",
     "status": "completed"
    },
    "tags": []
   },
   "outputs": [
    {
     "data": {
      "text/plain": [
       "0"
      ]
     },
     "execution_count": 29,
     "metadata": {},
     "output_type": "execute_result"
    }
   ],
   "source": [
    "data['responsibility_claimed'].isnull().sum()"
   ]
  },
  {
   "cell_type": "code",
   "execution_count": 30,
   "id": "b4f4f0bd",
   "metadata": {
    "execution": {
     "iopub.execute_input": "2025-07-05T09:34:02.744537Z",
     "iopub.status.busy": "2025-07-05T09:34:02.744240Z",
     "iopub.status.idle": "2025-07-05T09:34:02.750292Z",
     "shell.execute_reply": "2025-07-05T09:34:02.749390Z"
    },
    "papermill": {
     "duration": 0.021505,
     "end_time": "2025-07-05T09:34:02.751692",
     "exception": false,
     "start_time": "2025-07-05T09:34:02.730187",
     "status": "completed"
    },
    "tags": []
   },
   "outputs": [
    {
     "data": {
      "text/plain": [
       "7068"
      ]
     },
     "execution_count": 30,
     "metadata": {},
     "output_type": "execute_result"
    }
   ],
   "source": [
    "data['num_killed'].isnull().sum()"
   ]
  },
  {
   "cell_type": "code",
   "execution_count": 31,
   "id": "0805328d",
   "metadata": {
    "execution": {
     "iopub.execute_input": "2025-07-05T09:34:02.779473Z",
     "iopub.status.busy": "2025-07-05T09:34:02.778942Z",
     "iopub.status.idle": "2025-07-05T09:34:02.788941Z",
     "shell.execute_reply": "2025-07-05T09:34:02.788235Z"
    },
    "papermill": {
     "duration": 0.025239,
     "end_time": "2025-07-05T09:34:02.790298",
     "exception": false,
     "start_time": "2025-07-05T09:34:02.765059",
     "status": "completed"
    },
    "tags": []
   },
   "outputs": [
    {
     "data": {
      "text/plain": [
       "num_killed\n",
       "0.0       45.155648\n",
       "1.0       17.940733\n",
       "2.0        7.239988\n",
       "3.0        4.604232\n",
       "4.0        3.196878\n",
       "            ...    \n",
       "94.0       0.001011\n",
       "136.0      0.001011\n",
       "1180.0     0.001011\n",
       "228.0      0.001011\n",
       "311.0      0.001011\n",
       "Name: count, Length: 200, dtype: float64"
      ]
     },
     "execution_count": 31,
     "metadata": {},
     "output_type": "execute_result"
    }
   ],
   "source": [
    "data['num_killed'].value_counts()/data.shape[0]*100"
   ]
  },
  {
   "cell_type": "code",
   "execution_count": 32,
   "id": "d6b032b2",
   "metadata": {
    "execution": {
     "iopub.execute_input": "2025-07-05T09:34:02.818832Z",
     "iopub.status.busy": "2025-07-05T09:34:02.818129Z",
     "iopub.status.idle": "2025-07-05T09:34:02.823458Z",
     "shell.execute_reply": "2025-07-05T09:34:02.822762Z"
    },
    "papermill": {
     "duration": 0.021052,
     "end_time": "2025-07-05T09:34:02.824916",
     "exception": false,
     "start_time": "2025-07-05T09:34:02.803864",
     "status": "completed"
    },
    "tags": []
   },
   "outputs": [],
   "source": [
    "data['num_killed']= data['num_killed'].fillna(0)"
   ]
  },
  {
   "cell_type": "code",
   "execution_count": 33,
   "id": "5d850abc",
   "metadata": {
    "execution": {
     "iopub.execute_input": "2025-07-05T09:34:02.855439Z",
     "iopub.status.busy": "2025-07-05T09:34:02.854841Z",
     "iopub.status.idle": "2025-07-05T09:34:02.860223Z",
     "shell.execute_reply": "2025-07-05T09:34:02.859417Z"
    },
    "papermill": {
     "duration": 0.02085,
     "end_time": "2025-07-05T09:34:02.861498",
     "exception": false,
     "start_time": "2025-07-05T09:34:02.840648",
     "status": "completed"
    },
    "tags": []
   },
   "outputs": [
    {
     "data": {
      "text/plain": [
       "0"
      ]
     },
     "execution_count": 33,
     "metadata": {},
     "output_type": "execute_result"
    }
   ],
   "source": [
    "# After Conversion\n",
    "data['num_killed'].isnull().sum()"
   ]
  },
  {
   "cell_type": "markdown",
   "id": "69192670",
   "metadata": {
    "papermill": {
     "duration": 0.013258,
     "end_time": "2025-07-05T09:34:02.889224",
     "exception": false,
     "start_time": "2025-07-05T09:34:02.875966",
     "status": "completed"
    },
    "tags": []
   },
   "source": [
    "**filling missing values in the nkill (number of people killed) column with 0, assuming that if the value is missing, \n",
    "it likely means no deaths were reported. This approach preserves the dataset size and avoids dropping important rows, \n",
    "while maintaining a realistic assumption about the absence of data **"
   ]
  },
  {
   "cell_type": "markdown",
   "id": "6aace96e",
   "metadata": {
    "papermill": {
     "duration": 0.013177,
     "end_time": "2025-07-05T09:34:02.915813",
     "exception": false,
     "start_time": "2025-07-05T09:34:02.902636",
     "status": "completed"
    },
    "tags": []
   },
   "source": [
    "#### Handling Missing values in num_wounded"
   ]
  },
  {
   "cell_type": "markdown",
   "id": "5d6eefec",
   "metadata": {
    "papermill": {
     "duration": 0.013232,
     "end_time": "2025-07-05T09:34:02.942317",
     "exception": false,
     "start_time": "2025-07-05T09:34:02.929085",
     "status": "completed"
    },
    "tags": []
   },
   "source": []
  },
  {
   "cell_type": "code",
   "execution_count": 34,
   "id": "b49d1442",
   "metadata": {
    "execution": {
     "iopub.execute_input": "2025-07-05T09:34:02.972349Z",
     "iopub.status.busy": "2025-07-05T09:34:02.972049Z",
     "iopub.status.idle": "2025-07-05T09:34:02.978633Z",
     "shell.execute_reply": "2025-07-05T09:34:02.977668Z"
    },
    "papermill": {
     "duration": 0.022463,
     "end_time": "2025-07-05T09:34:02.980180",
     "exception": false,
     "start_time": "2025-07-05T09:34:02.957717",
     "status": "completed"
    },
    "tags": []
   },
   "outputs": [
    {
     "data": {
      "text/plain": [
       "11819"
      ]
     },
     "execution_count": 34,
     "metadata": {},
     "output_type": "execute_result"
    }
   ],
   "source": [
    "data['num_wounded'].isnull().sum()"
   ]
  },
  {
   "cell_type": "code",
   "execution_count": 35,
   "id": "8d9007b1",
   "metadata": {
    "execution": {
     "iopub.execute_input": "2025-07-05T09:34:03.008866Z",
     "iopub.status.busy": "2025-07-05T09:34:03.008562Z",
     "iopub.status.idle": "2025-07-05T09:34:03.017726Z",
     "shell.execute_reply": "2025-07-05T09:34:03.016955Z"
    },
    "papermill": {
     "duration": 0.025088,
     "end_time": "2025-07-05T09:34:03.019146",
     "exception": false,
     "start_time": "2025-07-05T09:34:02.994058",
     "status": "completed"
    },
    "tags": []
   },
   "outputs": [
    {
     "data": {
      "text/plain": [
       "num_wounded\n",
       "0.0      57.706579\n",
       "1.0       7.475558\n",
       "2.0       4.793295\n",
       "3.0       3.434470\n",
       "4.0       2.294028\n",
       "           ...    \n",
       "650.0     0.001011\n",
       "155.0     0.001011\n",
       "542.0     0.001011\n",
       "163.0     0.001011\n",
       "127.0     0.001011\n",
       "Name: count, Length: 224, dtype: float64"
      ]
     },
     "execution_count": 35,
     "metadata": {},
     "output_type": "execute_result"
    }
   ],
   "source": [
    "data['num_wounded'].value_counts()/data.shape[0]*100"
   ]
  },
  {
   "cell_type": "code",
   "execution_count": 36,
   "id": "07899acc",
   "metadata": {
    "execution": {
     "iopub.execute_input": "2025-07-05T09:34:03.048123Z",
     "iopub.status.busy": "2025-07-05T09:34:03.047323Z",
     "iopub.status.idle": "2025-07-05T09:34:03.052970Z",
     "shell.execute_reply": "2025-07-05T09:34:03.052153Z"
    },
    "papermill": {
     "duration": 0.021804,
     "end_time": "2025-07-05T09:34:03.054671",
     "exception": false,
     "start_time": "2025-07-05T09:34:03.032867",
     "status": "completed"
    },
    "tags": []
   },
   "outputs": [],
   "source": [
    "data['num_wounded'] = data['num_wounded'].fillna(0)"
   ]
  },
  {
   "cell_type": "code",
   "execution_count": 37,
   "id": "de8c9d29",
   "metadata": {
    "execution": {
     "iopub.execute_input": "2025-07-05T09:34:03.083607Z",
     "iopub.status.busy": "2025-07-05T09:34:03.083311Z",
     "iopub.status.idle": "2025-07-05T09:34:03.089988Z",
     "shell.execute_reply": "2025-07-05T09:34:03.089193Z"
    },
    "papermill": {
     "duration": 0.022845,
     "end_time": "2025-07-05T09:34:03.091647",
     "exception": false,
     "start_time": "2025-07-05T09:34:03.068802",
     "status": "completed"
    },
    "tags": []
   },
   "outputs": [
    {
     "data": {
      "text/plain": [
       "0"
      ]
     },
     "execution_count": 37,
     "metadata": {},
     "output_type": "execute_result"
    }
   ],
   "source": [
    "data['num_wounded'].isnull().sum()"
   ]
  },
  {
   "cell_type": "markdown",
   "id": "d757f6cb",
   "metadata": {
    "papermill": {
     "duration": 0.014285,
     "end_time": "2025-07-05T09:34:03.120006",
     "exception": false,
     "start_time": "2025-07-05T09:34:03.105721",
     "status": "completed"
    },
    "tags": []
   },
   "source": [
    "filled missing values in the num_wounded (number of people wounded) column with 0, \n",
    "assuming that if the value is missing, it likely means no deaths were reported. \n",
    "This approach preserves the dataset size and avoids dropping important rows, \n",
    "while maintaining a realistic assumption about the absence of data "
   ]
  },
  {
   "cell_type": "markdown",
   "id": "4a93d384",
   "metadata": {
    "papermill": {
     "duration": 0.013316,
     "end_time": "2025-07-05T09:34:03.147762",
     "exception": false,
     "start_time": "2025-07-05T09:34:03.134446",
     "status": "completed"
    },
    "tags": []
   },
   "source": [
    "#### Handling Missing Values in Hostage_or_Kidnapping"
   ]
  },
  {
   "cell_type": "code",
   "execution_count": 38,
   "id": "83efc0bf",
   "metadata": {
    "execution": {
     "iopub.execute_input": "2025-07-05T09:34:03.176074Z",
     "iopub.status.busy": "2025-07-05T09:34:03.175719Z",
     "iopub.status.idle": "2025-07-05T09:34:03.181891Z",
     "shell.execute_reply": "2025-07-05T09:34:03.181003Z"
    },
    "papermill": {
     "duration": 0.022156,
     "end_time": "2025-07-05T09:34:03.183516",
     "exception": false,
     "start_time": "2025-07-05T09:34:03.161360",
     "status": "completed"
    },
    "tags": []
   },
   "outputs": [
    {
     "data": {
      "text/plain": [
       "array([ 0.,  1., nan, -9.])"
      ]
     },
     "execution_count": 38,
     "metadata": {},
     "output_type": "execute_result"
    }
   ],
   "source": [
    "#hostage_or_kidnapping:\n",
    "data['hostage_or_kidnapping'].unique()\n",
    "#here we will impute null values with -9 means unknown'"
   ]
  },
  {
   "cell_type": "code",
   "execution_count": 39,
   "id": "a22616dc",
   "metadata": {
    "execution": {
     "iopub.execute_input": "2025-07-05T09:34:03.212880Z",
     "iopub.status.busy": "2025-07-05T09:34:03.212620Z",
     "iopub.status.idle": "2025-07-05T09:34:03.217613Z",
     "shell.execute_reply": "2025-07-05T09:34:03.216938Z"
    },
    "papermill": {
     "duration": 0.021143,
     "end_time": "2025-07-05T09:34:03.218917",
     "exception": false,
     "start_time": "2025-07-05T09:34:03.197774",
     "status": "completed"
    },
    "tags": []
   },
   "outputs": [],
   "source": [
    "data['hostage_or_kidnapping'] = data['hostage_or_kidnapping'].fillna(-9)"
   ]
  },
  {
   "cell_type": "code",
   "execution_count": 40,
   "id": "a5057e84",
   "metadata": {
    "execution": {
     "iopub.execute_input": "2025-07-05T09:34:03.248160Z",
     "iopub.status.busy": "2025-07-05T09:34:03.247471Z",
     "iopub.status.idle": "2025-07-05T09:34:03.253608Z",
     "shell.execute_reply": "2025-07-05T09:34:03.252762Z"
    },
    "papermill": {
     "duration": 0.022074,
     "end_time": "2025-07-05T09:34:03.254883",
     "exception": false,
     "start_time": "2025-07-05T09:34:03.232809",
     "status": "completed"
    },
    "tags": []
   },
   "outputs": [
    {
     "data": {
      "text/plain": [
       "array([ 0.,  1., -9.])"
      ]
     },
     "execution_count": 40,
     "metadata": {},
     "output_type": "execute_result"
    }
   ],
   "source": [
    "#after conversion:\n",
    "data['hostage_or_kidnapping'].unique()"
   ]
  },
  {
   "cell_type": "markdown",
   "id": "757d900f",
   "metadata": {
    "papermill": {
     "duration": 0.013484,
     "end_time": "2025-07-05T09:34:03.282807",
     "exception": false,
     "start_time": "2025-07-05T09:34:03.269323",
     "status": "completed"
    },
    "tags": []
   },
   "source": [
    "we merged null values with -9 which means unknown.\n",
    "we made single category out of two as one '-9' or unknown"
   ]
  },
  {
   "cell_type": "markdown",
   "id": "792b64c5",
   "metadata": {
    "papermill": {
     "duration": 0.0135,
     "end_time": "2025-07-05T09:34:03.310155",
     "exception": false,
     "start_time": "2025-07-05T09:34:03.296655",
     "status": "completed"
    },
    "tags": []
   },
   "source": [
    "#### Data After Missing Values Treatment"
   ]
  },
  {
   "cell_type": "code",
   "execution_count": 41,
   "id": "d7105766",
   "metadata": {
    "execution": {
     "iopub.execute_input": "2025-07-05T09:34:03.339425Z",
     "iopub.status.busy": "2025-07-05T09:34:03.339160Z",
     "iopub.status.idle": "2025-07-05T09:34:03.367379Z",
     "shell.execute_reply": "2025-07-05T09:34:03.366453Z"
    },
    "papermill": {
     "duration": 0.044627,
     "end_time": "2025-07-05T09:34:03.368937",
     "exception": false,
     "start_time": "2025-07-05T09:34:03.324310",
     "status": "completed"
    },
    "tags": []
   },
   "outputs": [
    {
     "data": {
      "text/plain": [
       "year                       0\n",
       "month                      0\n",
       "multi_day_attack           0\n",
       "country                    0\n",
       "region                     0\n",
       "attack_successful          0\n",
       "suicide_attack             0\n",
       "attack_type                0\n",
       "primary_target_type        0\n",
       "responsibility_claimed     0\n",
       "weapon_type                0\n",
       "num_killed                 0\n",
       "num_wounded                0\n",
       "property_damage            0\n",
       "hostage_or_kidnapping      0\n",
       "terrorist_group_encoded    0\n",
       "dtype: int64"
      ]
     },
     "execution_count": 41,
     "metadata": {},
     "output_type": "execute_result"
    }
   ],
   "source": [
    "#lets check our datset if we have anymore missing values or not\n",
    "data.isnull().sum()\n",
    "#all missing values treated"
   ]
  },
  {
   "cell_type": "markdown",
   "id": "10dafb75",
   "metadata": {
    "papermill": {
     "duration": 0.013819,
     "end_time": "2025-07-05T09:34:03.397952",
     "exception": false,
     "start_time": "2025-07-05T09:34:03.384133",
     "status": "completed"
    },
    "tags": []
   },
   "source": [
    "### Feature Encoding"
   ]
  },
  {
   "cell_type": "code",
   "execution_count": 42,
   "id": "1001b154",
   "metadata": {
    "execution": {
     "iopub.execute_input": "2025-07-05T09:34:03.427458Z",
     "iopub.status.busy": "2025-07-05T09:34:03.426568Z",
     "iopub.status.idle": "2025-07-05T09:34:03.430452Z",
     "shell.execute_reply": "2025-07-05T09:34:03.429630Z"
    },
    "papermill": {
     "duration": 0.02006,
     "end_time": "2025-07-05T09:34:03.432026",
     "exception": false,
     "start_time": "2025-07-05T09:34:03.411966",
     "status": "completed"
    },
    "tags": []
   },
   "outputs": [],
   "source": [
    "#columns which are already encoded in our datasets are\n",
    "#1.multi_day_attack\n",
    "#2.attack_successful \n",
    "#3.suicide_attack\n",
    "#4.responsibility_claimed\n",
    "#5.property_damage\n",
    "#6.hostage_or_kidnapping"
   ]
  },
  {
   "cell_type": "code",
   "execution_count": 43,
   "id": "bf1d1b22",
   "metadata": {
    "execution": {
     "iopub.execute_input": "2025-07-05T09:34:03.461912Z",
     "iopub.status.busy": "2025-07-05T09:34:03.461153Z",
     "iopub.status.idle": "2025-07-05T09:34:03.467344Z",
     "shell.execute_reply": "2025-07-05T09:34:03.466562Z"
    },
    "papermill": {
     "duration": 0.022636,
     "end_time": "2025-07-05T09:34:03.468663",
     "exception": false,
     "start_time": "2025-07-05T09:34:03.446027",
     "status": "completed"
    },
    "tags": []
   },
   "outputs": [
    {
     "data": {
      "text/plain": [
       "array([ 7,  0,  1,  2,  3,  4,  5,  6,  8,  9, 10, 11, 12])"
      ]
     },
     "execution_count": 43,
     "metadata": {},
     "output_type": "execute_result"
    }
   ],
   "source": [
    "#month \n",
    "data['month'].unique()\n",
    "#here 1-12 means(jan to december)\n",
    "#0 means unknown month"
   ]
  },
  {
   "cell_type": "code",
   "execution_count": 44,
   "id": "4cf45a2e",
   "metadata": {
    "execution": {
     "iopub.execute_input": "2025-07-05T09:34:03.497628Z",
     "iopub.status.busy": "2025-07-05T09:34:03.497314Z",
     "iopub.status.idle": "2025-07-05T09:34:03.509599Z",
     "shell.execute_reply": "2025-07-05T09:34:03.508785Z"
    },
    "papermill": {
     "duration": 0.028243,
     "end_time": "2025-07-05T09:34:03.510992",
     "exception": false,
     "start_time": "2025-07-05T09:34:03.482749",
     "status": "completed"
    },
    "tags": []
   },
   "outputs": [
    {
     "data": {
      "text/plain": [
       "array(['Dominican Republic', 'Mexico', 'United States', 'Uruguay',\n",
       "       'East Germany (GDR)', 'Ethiopia', 'Venezuela', 'Philippines',\n",
       "       'West Germany (FRG)', 'Switzerland', 'Italy', 'Spain', 'Guatemala',\n",
       "       'Brazil', 'Argentina', 'Lebanon', 'Japan', 'Ireland', 'Jordan',\n",
       "       'Turkey', 'Paraguay', 'Iran', 'United Kingdom', 'Bolivia',\n",
       "       'Greece', 'Nicaragua', 'Netherlands', 'Belgium', 'Canada',\n",
       "       'Australia', 'Zambia', 'Sweden', 'South Yemen', 'Poland', 'Egypt',\n",
       "       'Kuwait', 'Austria', 'Czechoslovakia', 'India', 'Israel', 'France',\n",
       "       'Brunei', 'Zaire', \"People's Republic of the Congo\", 'Cambodia',\n",
       "       'Portugal', 'Algeria', 'Colombia', 'Thailand', 'Haiti', 'Sudan',\n",
       "       'Cyprus', 'Myanmar', 'Afghanistan', 'Yugoslavia', 'Singapore',\n",
       "       'Pakistan', 'Jamaica', 'Chad', 'El Salvador', 'Andorra', 'Syria',\n",
       "       'South Korea', 'Peru', 'United Arab Emirates', 'Kenya', 'Somalia',\n",
       "       'Tanzania', 'Sri Lanka', 'Malaysia', 'Namibia', 'Morocco',\n",
       "       'Nigeria', 'Costa Rica', 'West Bank and Gaza Strip', 'Barbados',\n",
       "       'Chile', 'Panama', 'Trinidad and Tobago', 'South Africa', 'Iraq',\n",
       "       'Angola', 'Mauritania', 'Djibouti', 'Indonesia', 'Soviet Union',\n",
       "       'Rhodesia', 'Denmark', 'Western Sahara', 'Guyana', 'Ecuador',\n",
       "       'Uganda', 'Norway', 'Mozambique', 'Bangladesh', 'Lesotho',\n",
       "       'Honduras', 'Saudi Arabia', 'Bahrain', 'Tunisia', 'Senegal',\n",
       "       'New Hebrides', 'Libya', 'Guadeloupe', 'Zimbabwe', 'Martinique',\n",
       "       'Vatican City', 'Central African Republic', 'Seychelles',\n",
       "       'Dominica', 'Qatar', 'Bulgaria', 'Luxembourg', 'French Guiana',\n",
       "       'Falkland Islands', 'New Caledonia', 'Romania', 'Swaziland',\n",
       "       'Botswana', 'Niger', 'Nepal', 'Suriname', 'Iceland', 'Maldives',\n",
       "       'Papua New Guinea', 'Liberia', 'Mali', 'Germany', 'Rwanda',\n",
       "       'Sierra Leone', 'Cuba', 'Croatia', 'Cameroon', 'Yemen', 'Georgia',\n",
       "       'Taiwan', 'Fiji', 'Madagascar', 'Burundi', 'Azerbaijan', 'Hungary',\n",
       "       'Togo', 'Moldova', 'Armenia', 'Ivory Coast', 'China',\n",
       "       'Bosnia-Herzegovina', 'Malawi', 'Tajikistan', 'Latvia',\n",
       "       'Lithuania', 'Laos', 'Estonia', 'Hong Kong', 'Russia', 'Comoros',\n",
       "       'Kazakhstan', 'Ghana', 'Guinea', 'Slovak Republic',\n",
       "       'Republic of the Congo', 'North Korea', 'Eritrea',\n",
       "       'Czech Republic', 'St. Kitts and Nevis', 'French Polynesia',\n",
       "       'Vanuatu', 'New Zealand', 'Malta', 'Gabon', 'Belarus', 'Macedonia',\n",
       "       'Macau', 'Democratic Republic of the Congo', 'Kosovo',\n",
       "       'Solomon Islands', 'Kyrgyzstan', 'St. Lucia', 'Ukraine',\n",
       "       'International', 'Turkmenistan', 'East Timor', 'Serbia-Montenegro',\n",
       "       'Uzbekistan', 'Finland', 'Bhutan', 'Equatorial Guinea', 'Serbia',\n",
       "       'South Sudan', 'Burkina Faso', 'Albania', 'Vietnam'], dtype=object)"
      ]
     },
     "execution_count": 44,
     "metadata": {},
     "output_type": "execute_result"
    }
   ],
   "source": [
    "#country  \n",
    "data['country'].unique()\n",
    "#we will do label encoding here "
   ]
  },
  {
   "cell_type": "code",
   "execution_count": 45,
   "id": "3ec8e986",
   "metadata": {
    "execution": {
     "iopub.execute_input": "2025-07-05T09:34:03.541499Z",
     "iopub.status.busy": "2025-07-05T09:34:03.541216Z",
     "iopub.status.idle": "2025-07-05T09:34:03.545333Z",
     "shell.execute_reply": "2025-07-05T09:34:03.544428Z"
    },
    "papermill": {
     "duration": 0.020869,
     "end_time": "2025-07-05T09:34:03.546806",
     "exception": false,
     "start_time": "2025-07-05T09:34:03.525937",
     "status": "completed"
    },
    "tags": []
   },
   "outputs": [],
   "source": [
    "encode = LabelEncoder()"
   ]
  },
  {
   "cell_type": "code",
   "execution_count": 46,
   "id": "8f7f1504",
   "metadata": {
    "execution": {
     "iopub.execute_input": "2025-07-05T09:34:03.576215Z",
     "iopub.status.busy": "2025-07-05T09:34:03.575891Z",
     "iopub.status.idle": "2025-07-05T09:34:03.594724Z",
     "shell.execute_reply": "2025-07-05T09:34:03.593965Z"
    },
    "papermill": {
     "duration": 0.035205,
     "end_time": "2025-07-05T09:34:03.596333",
     "exception": false,
     "start_time": "2025-07-05T09:34:03.561128",
     "status": "completed"
    },
    "tags": []
   },
   "outputs": [],
   "source": [
    "data['encoded_country'] = encode.fit_transform(data['country'])"
   ]
  },
  {
   "cell_type": "code",
   "execution_count": 47,
   "id": "c5b9a7f8",
   "metadata": {
    "execution": {
     "iopub.execute_input": "2025-07-05T09:34:03.625821Z",
     "iopub.status.busy": "2025-07-05T09:34:03.625544Z",
     "iopub.status.idle": "2025-07-05T09:34:03.631446Z",
     "shell.execute_reply": "2025-07-05T09:34:03.630647Z"
    },
    "papermill": {
     "duration": 0.022053,
     "end_time": "2025-07-05T09:34:03.632790",
     "exception": false,
     "start_time": "2025-07-05T09:34:03.610737",
     "status": "completed"
    },
    "tags": []
   },
   "outputs": [
    {
     "data": {
      "text/plain": [
       "array([ 43, 108, 177, 178,  44,  52, 182, 130, 185, 162,  80, 154,  65,\n",
       "        19,   5,  92,  83,  78,  84, 171, 127,  76, 176,  16,  63, 119,\n",
       "       115,  14,  26,   7, 190, 161, 152, 131,  47,  88,   8,  38,  73,\n",
       "        79,  56,  20, 189, 128,  24, 132,   2,  31, 167,  68, 158,  36,\n",
       "       112,   0, 188, 145, 124,  82,  28,  48,   3, 163, 150, 129, 175,\n",
       "        86, 148, 166, 155, 102, 113, 110, 121,  33, 184,  12,  29, 125,\n",
       "       169, 149,  77,   4, 107,  41,  74, 153, 135,  40, 186,  67,  46,\n",
       "       173, 123, 111,  11,  93,  69, 139,  10, 170, 140, 117,  95,  64,\n",
       "       191, 106, 181,  27, 143,  42, 133,  21,  97,  57,  53, 116, 136,\n",
       "       160,  18, 120, 114, 159,  72, 103, 126,  94, 104,  61, 138, 144,\n",
       "        35,  34,  25, 187,  60, 164,  54, 100,  23,   9,  71, 168, 109,\n",
       "         6,  81,  30,  17, 101, 165,  91,  96,  90,  51,  70, 137,  32,\n",
       "        85,  62,  66, 146, 134, 122,  50,  37, 156,  58, 180, 118, 105,\n",
       "        59,  13,  99,  98,  39,  87, 147,  89, 157, 174,  75, 172,  45,\n",
       "       142, 179,  55,  15,  49, 141, 151,  22,   1, 183])"
      ]
     },
     "execution_count": 47,
     "metadata": {},
     "output_type": "execute_result"
    }
   ],
   "source": [
    "data['encoded_country'].unique()"
   ]
  },
  {
   "cell_type": "code",
   "execution_count": 48,
   "id": "7f75d7e2",
   "metadata": {
    "execution": {
     "iopub.execute_input": "2025-07-05T09:34:03.663545Z",
     "iopub.status.busy": "2025-07-05T09:34:03.663297Z",
     "iopub.status.idle": "2025-07-05T09:34:03.674466Z",
     "shell.execute_reply": "2025-07-05T09:34:03.673615Z"
    },
    "papermill": {
     "duration": 0.028425,
     "end_time": "2025-07-05T09:34:03.675993",
     "exception": false,
     "start_time": "2025-07-05T09:34:03.647568",
     "status": "completed"
    },
    "tags": []
   },
   "outputs": [
    {
     "data": {
      "text/plain": [
       "array(['Central America & Caribbean', 'North America', 'South America',\n",
       "       'Eastern Europe', 'Sub-Saharan Africa', 'Southeast Asia',\n",
       "       'Western Europe', 'Middle East & North Africa', 'East Asia',\n",
       "       'Australasia & Oceania', 'South Asia', 'Central Asia'],\n",
       "      dtype=object)"
      ]
     },
     "execution_count": 48,
     "metadata": {},
     "output_type": "execute_result"
    }
   ],
   "source": [
    "#region\n",
    "data['region'].unique()\n",
    "#we will do label encoding here also"
   ]
  },
  {
   "cell_type": "code",
   "execution_count": 49,
   "id": "d0b1c77a",
   "metadata": {
    "execution": {
     "iopub.execute_input": "2025-07-05T09:34:03.705979Z",
     "iopub.status.busy": "2025-07-05T09:34:03.705709Z",
     "iopub.status.idle": "2025-07-05T09:34:03.709964Z",
     "shell.execute_reply": "2025-07-05T09:34:03.709018Z"
    },
    "papermill": {
     "duration": 0.021004,
     "end_time": "2025-07-05T09:34:03.711483",
     "exception": false,
     "start_time": "2025-07-05T09:34:03.690479",
     "status": "completed"
    },
    "tags": []
   },
   "outputs": [],
   "source": [
    "encode = LabelEncoder()"
   ]
  },
  {
   "cell_type": "code",
   "execution_count": 50,
   "id": "bd9d5ea2",
   "metadata": {
    "execution": {
     "iopub.execute_input": "2025-07-05T09:34:03.741527Z",
     "iopub.status.busy": "2025-07-05T09:34:03.741268Z",
     "iopub.status.idle": "2025-07-05T09:34:03.760090Z",
     "shell.execute_reply": "2025-07-05T09:34:03.759188Z"
    },
    "papermill": {
     "duration": 0.035438,
     "end_time": "2025-07-05T09:34:03.761756",
     "exception": false,
     "start_time": "2025-07-05T09:34:03.726318",
     "status": "completed"
    },
    "tags": []
   },
   "outputs": [],
   "source": [
    "data['encoded_region'] = encode.fit_transform(data['region'])"
   ]
  },
  {
   "cell_type": "code",
   "execution_count": 51,
   "id": "14c643bb",
   "metadata": {
    "execution": {
     "iopub.execute_input": "2025-07-05T09:34:03.791704Z",
     "iopub.status.busy": "2025-07-05T09:34:03.791380Z",
     "iopub.status.idle": "2025-07-05T09:34:03.797632Z",
     "shell.execute_reply": "2025-07-05T09:34:03.796769Z"
    },
    "papermill": {
     "duration": 0.023197,
     "end_time": "2025-07-05T09:34:03.799315",
     "exception": false,
     "start_time": "2025-07-05T09:34:03.776118",
     "status": "completed"
    },
    "tags": []
   },
   "outputs": [
    {
     "data": {
      "text/plain": [
       "array([ 1,  6,  7,  4, 10,  9, 11,  5,  3,  0,  8,  2])"
      ]
     },
     "execution_count": 51,
     "metadata": {},
     "output_type": "execute_result"
    }
   ],
   "source": [
    "data['encoded_region'].unique()"
   ]
  },
  {
   "cell_type": "code",
   "execution_count": 52,
   "id": "48ec0b78",
   "metadata": {
    "execution": {
     "iopub.execute_input": "2025-07-05T09:34:03.829420Z",
     "iopub.status.busy": "2025-07-05T09:34:03.829075Z",
     "iopub.status.idle": "2025-07-05T09:34:03.840511Z",
     "shell.execute_reply": "2025-07-05T09:34:03.839653Z"
    },
    "papermill": {
     "duration": 0.028277,
     "end_time": "2025-07-05T09:34:03.842026",
     "exception": false,
     "start_time": "2025-07-05T09:34:03.813749",
     "status": "completed"
    },
    "tags": []
   },
   "outputs": [
    {
     "data": {
      "text/plain": [
       "array(['Assassination', 'Hostage Taking (Kidnapping)', 'Armed Assault',\n",
       "       'Facility/Infrastructure Attack', 'Bombing/Explosion', 'Unknown',\n",
       "       'Hijacking', 'Unarmed Assault',\n",
       "       'Hostage Taking (Barricade Incident)'], dtype=object)"
      ]
     },
     "execution_count": 52,
     "metadata": {},
     "output_type": "execute_result"
    }
   ],
   "source": [
    "#attack_type \n",
    "data['attack_type'].unique()"
   ]
  },
  {
   "cell_type": "code",
   "execution_count": 53,
   "id": "5f32fbea",
   "metadata": {
    "execution": {
     "iopub.execute_input": "2025-07-05T09:34:03.872439Z",
     "iopub.status.busy": "2025-07-05T09:34:03.871764Z",
     "iopub.status.idle": "2025-07-05T09:34:03.890979Z",
     "shell.execute_reply": "2025-07-05T09:34:03.890048Z"
    },
    "papermill": {
     "duration": 0.036128,
     "end_time": "2025-07-05T09:34:03.892503",
     "exception": false,
     "start_time": "2025-07-05T09:34:03.856375",
     "status": "completed"
    },
    "tags": []
   },
   "outputs": [],
   "source": [
    "data['encoded_attack_type'] = encode.fit_transform(data['attack_type'])"
   ]
  },
  {
   "cell_type": "code",
   "execution_count": 54,
   "id": "476eaf8e",
   "metadata": {
    "execution": {
     "iopub.execute_input": "2025-07-05T09:34:03.928022Z",
     "iopub.status.busy": "2025-07-05T09:34:03.927772Z",
     "iopub.status.idle": "2025-07-05T09:34:03.933539Z",
     "shell.execute_reply": "2025-07-05T09:34:03.932873Z"
    },
    "papermill": {
     "duration": 0.022692,
     "end_time": "2025-07-05T09:34:03.934805",
     "exception": false,
     "start_time": "2025-07-05T09:34:03.912113",
     "status": "completed"
    },
    "tags": []
   },
   "outputs": [
    {
     "data": {
      "text/plain": [
       "array([1, 6, 0, 3, 2, 8, 4, 7, 5])"
      ]
     },
     "execution_count": 54,
     "metadata": {},
     "output_type": "execute_result"
    }
   ],
   "source": [
    "data['encoded_attack_type'].unique()"
   ]
  },
  {
   "cell_type": "code",
   "execution_count": 55,
   "id": "631de99e",
   "metadata": {
    "execution": {
     "iopub.execute_input": "2025-07-05T09:34:03.966642Z",
     "iopub.status.busy": "2025-07-05T09:34:03.966367Z",
     "iopub.status.idle": "2025-07-05T09:34:03.976553Z",
     "shell.execute_reply": "2025-07-05T09:34:03.975766Z"
    },
    "papermill": {
     "duration": 0.027449,
     "end_time": "2025-07-05T09:34:03.978086",
     "exception": false,
     "start_time": "2025-07-05T09:34:03.950637",
     "status": "completed"
    },
    "tags": []
   },
   "outputs": [
    {
     "data": {
      "text/plain": [
       "array(['Private Citizens & Property', 'Government (Diplomatic)', 'Police',\n",
       "       'Military', 'Government (General)', 'Business',\n",
       "       'Educational Institution', 'Violent Political Party',\n",
       "       'Religious Figures/Institutions', 'Unknown', 'Transportation',\n",
       "       'Utilities', 'Airports & Aircraft', 'Journalists & Media',\n",
       "       'Telecommunication', 'Food or Water Supply', 'NGO',\n",
       "       'Terrorists/Non-State Militia', 'Other', 'Tourists', 'Maritime',\n",
       "       'Abortion Related'], dtype=object)"
      ]
     },
     "execution_count": 55,
     "metadata": {},
     "output_type": "execute_result"
    }
   ],
   "source": [
    "#primary_target_type \n",
    "data['primary_target_type'].unique()"
   ]
  },
  {
   "cell_type": "code",
   "execution_count": 56,
   "id": "477c3a86",
   "metadata": {
    "execution": {
     "iopub.execute_input": "2025-07-05T09:34:04.011335Z",
     "iopub.status.busy": "2025-07-05T09:34:04.010914Z",
     "iopub.status.idle": "2025-07-05T09:34:04.038691Z",
     "shell.execute_reply": "2025-07-05T09:34:04.037594Z"
    },
    "papermill": {
     "duration": 0.048217,
     "end_time": "2025-07-05T09:34:04.040993",
     "exception": false,
     "start_time": "2025-07-05T09:34:03.992776",
     "status": "completed"
    },
    "tags": []
   },
   "outputs": [],
   "source": [
    "data['encoded_primary_target_type'] = encode.fit_transform(data['primary_target_type'])"
   ]
  },
  {
   "cell_type": "code",
   "execution_count": 57,
   "id": "fc01430a",
   "metadata": {
    "execution": {
     "iopub.execute_input": "2025-07-05T09:34:04.084948Z",
     "iopub.status.busy": "2025-07-05T09:34:04.084367Z",
     "iopub.status.idle": "2025-07-05T09:34:04.092933Z",
     "shell.execute_reply": "2025-07-05T09:34:04.091998Z"
    },
    "papermill": {
     "duration": 0.029476,
     "end_time": "2025-07-05T09:34:04.095014",
     "exception": false,
     "start_time": "2025-07-05T09:34:04.065538",
     "status": "completed"
    },
    "tags": []
   },
   "outputs": [
    {
     "data": {
      "text/plain": [
       "array([13,  5, 12,  9,  6,  2,  3, 21, 14, 19, 18, 20,  1,  7, 15,  4, 10,\n",
       "       16, 11, 17,  8,  0])"
      ]
     },
     "execution_count": 57,
     "metadata": {},
     "output_type": "execute_result"
    }
   ],
   "source": [
    "data['encoded_primary_target_type'].unique()"
   ]
  },
  {
   "cell_type": "code",
   "execution_count": 58,
   "id": "e7320d87",
   "metadata": {
    "execution": {
     "iopub.execute_input": "2025-07-05T09:34:04.128193Z",
     "iopub.status.busy": "2025-07-05T09:34:04.127500Z",
     "iopub.status.idle": "2025-07-05T09:34:04.137785Z",
     "shell.execute_reply": "2025-07-05T09:34:04.137096Z"
    },
    "papermill": {
     "duration": 0.026721,
     "end_time": "2025-07-05T09:34:04.138949",
     "exception": false,
     "start_time": "2025-07-05T09:34:04.112228",
     "status": "completed"
    },
    "tags": []
   },
   "outputs": [
    {
     "data": {
      "text/plain": [
       "array(['Unknown', 'Firearms', 'Incendiary', 'Explosives', 'Chemical',\n",
       "       'Melee', 'Sabotage Equipment', 'Fake Weapons', 'Radiological',\n",
       "       'Other',\n",
       "       'Vehicle (not to include vehicle-borne explosives, i.e., car or truck bombs)',\n",
       "       'Biological'], dtype=object)"
      ]
     },
     "execution_count": 58,
     "metadata": {},
     "output_type": "execute_result"
    }
   ],
   "source": [
    "#weapon_type \n",
    "data['weapon_type'].unique()"
   ]
  },
  {
   "cell_type": "code",
   "execution_count": 59,
   "id": "64169ec1",
   "metadata": {
    "execution": {
     "iopub.execute_input": "2025-07-05T09:34:04.170136Z",
     "iopub.status.busy": "2025-07-05T09:34:04.169873Z",
     "iopub.status.idle": "2025-07-05T09:34:04.188028Z",
     "shell.execute_reply": "2025-07-05T09:34:04.187203Z"
    },
    "papermill": {
     "duration": 0.035632,
     "end_time": "2025-07-05T09:34:04.189378",
     "exception": false,
     "start_time": "2025-07-05T09:34:04.153746",
     "status": "completed"
    },
    "tags": []
   },
   "outputs": [],
   "source": [
    "encode = LabelEncoder()\n",
    "data['encoded_weapon_type'] = encode.fit_transform(data['weapon_type'])"
   ]
  },
  {
   "cell_type": "code",
   "execution_count": 60,
   "id": "d35938a4",
   "metadata": {
    "execution": {
     "iopub.execute_input": "2025-07-05T09:34:04.220781Z",
     "iopub.status.busy": "2025-07-05T09:34:04.220361Z",
     "iopub.status.idle": "2025-07-05T09:34:04.227014Z",
     "shell.execute_reply": "2025-07-05T09:34:04.225990Z"
    },
    "papermill": {
     "duration": 0.023963,
     "end_time": "2025-07-05T09:34:04.228658",
     "exception": false,
     "start_time": "2025-07-05T09:34:04.204695",
     "status": "completed"
    },
    "tags": []
   },
   "outputs": [
    {
     "data": {
      "text/plain": [
       "array([10,  4,  5,  2,  1,  6,  9,  3,  8,  7, 11,  0])"
      ]
     },
     "execution_count": 60,
     "metadata": {},
     "output_type": "execute_result"
    }
   ],
   "source": [
    "data['encoded_weapon_type'].unique()"
   ]
  },
  {
   "cell_type": "markdown",
   "id": "3ee2fc39",
   "metadata": {
    "execution": {
     "iopub.execute_input": "2025-07-05T07:48:05.081309Z",
     "iopub.status.busy": "2025-07-05T07:48:05.080980Z",
     "iopub.status.idle": "2025-07-05T07:48:05.085288Z",
     "shell.execute_reply": "2025-07-05T07:48:05.084360Z",
     "shell.execute_reply.started": "2025-07-05T07:48:05.081286Z"
    },
    "papermill": {
     "duration": 0.014453,
     "end_time": "2025-07-05T09:34:04.258082",
     "exception": false,
     "start_time": "2025-07-05T09:34:04.243629",
     "status": "completed"
    },
    "tags": []
   },
   "source": [
    "### New Feature Making "
   ]
  },
  {
   "cell_type": "code",
   "execution_count": 61,
   "id": "96dbb851",
   "metadata": {
    "execution": {
     "iopub.execute_input": "2025-07-05T09:34:04.288603Z",
     "iopub.status.busy": "2025-07-05T09:34:04.288335Z",
     "iopub.status.idle": "2025-07-05T09:34:04.300007Z",
     "shell.execute_reply": "2025-07-05T09:34:04.299313Z"
    },
    "papermill": {
     "duration": 0.028648,
     "end_time": "2025-07-05T09:34:04.301460",
     "exception": false,
     "start_time": "2025-07-05T09:34:04.272812",
     "status": "completed"
    },
    "tags": []
   },
   "outputs": [],
   "source": [
    "# Define custom bin edges\n",
    "bins = [-1, 0, 5, 10, 20, 50, 100, float('inf')]  \n",
    "labels = ['0', '1-5', '6-10', '11-20', '21-50', '51-100', '100+']\n",
    "# Create a new binned column\n",
    "data['kill_range'] = pd.cut(data['num_killed'], bins=bins, labels=labels, right=True)"
   ]
  },
  {
   "cell_type": "code",
   "execution_count": 62,
   "id": "3ba21da8",
   "metadata": {
    "execution": {
     "iopub.execute_input": "2025-07-05T09:34:04.332589Z",
     "iopub.status.busy": "2025-07-05T09:34:04.332055Z",
     "iopub.status.idle": "2025-07-05T09:34:04.338824Z",
     "shell.execute_reply": "2025-07-05T09:34:04.337934Z"
    },
    "papermill": {
     "duration": 0.023476,
     "end_time": "2025-07-05T09:34:04.340226",
     "exception": false,
     "start_time": "2025-07-05T09:34:04.316750",
     "status": "completed"
    },
    "tags": []
   },
   "outputs": [
    {
     "data": {
      "text/plain": [
       "['1-5', '0', '6-10', '21-50', '11-20', '51-100', '100+']\n",
       "Categories (7, object): ['0' < '1-5' < '6-10' < '11-20' < '21-50' < '51-100' < '100+']"
      ]
     },
     "execution_count": 62,
     "metadata": {},
     "output_type": "execute_result"
    }
   ],
   "source": [
    "data['kill_range'].unique()"
   ]
  },
  {
   "cell_type": "markdown",
   "id": "340f2fcf",
   "metadata": {
    "papermill": {
     "duration": 0.014367,
     "end_time": "2025-07-05T09:34:04.370290",
     "exception": false,
     "start_time": "2025-07-05T09:34:04.355923",
     "status": "completed"
    },
    "tags": []
   },
   "source": [
    "The num_killed column was binned into categorical ranges using pd.cut().\n",
    "Custom bins were defined to group the number of people killed into\n",
    "intervals like '1–5', '6–10', up to '100+'. \n",
    "This transformation simplifies the numeric feature into meaningful categories, \n",
    "making it easier to analyze casualty severity levels \n",
    "and potentially improve model interpretability."
   ]
  },
  {
   "cell_type": "code",
   "execution_count": 63,
   "id": "0dbbd7d8",
   "metadata": {
    "execution": {
     "iopub.execute_input": "2025-07-05T09:34:04.400752Z",
     "iopub.status.busy": "2025-07-05T09:34:04.400451Z",
     "iopub.status.idle": "2025-07-05T09:34:04.409939Z",
     "shell.execute_reply": "2025-07-05T09:34:04.409131Z"
    },
    "papermill": {
     "duration": 0.026072,
     "end_time": "2025-07-05T09:34:04.411212",
     "exception": false,
     "start_time": "2025-07-05T09:34:04.385140",
     "status": "completed"
    },
    "tags": []
   },
   "outputs": [
    {
     "data": {
      "text/plain": [
       "num_wounded\n",
       "0.0      68896\n",
       "1.0       7394\n",
       "2.0       4741\n",
       "3.0       3397\n",
       "4.0       2269\n",
       "         ...  \n",
       "650.0        1\n",
       "155.0        1\n",
       "542.0        1\n",
       "163.0        1\n",
       "127.0        1\n",
       "Name: count, Length: 224, dtype: int64"
      ]
     },
     "execution_count": 63,
     "metadata": {},
     "output_type": "execute_result"
    }
   ],
   "source": [
    "#num_wounded\n",
    "data['num_wounded'].value_counts()"
   ]
  },
  {
   "cell_type": "code",
   "execution_count": 64,
   "id": "5a2266f3",
   "metadata": {
    "execution": {
     "iopub.execute_input": "2025-07-05T09:34:04.442931Z",
     "iopub.status.busy": "2025-07-05T09:34:04.442040Z",
     "iopub.status.idle": "2025-07-05T09:34:04.450445Z",
     "shell.execute_reply": "2025-07-05T09:34:04.449661Z"
    },
    "papermill": {
     "duration": 0.025431,
     "end_time": "2025-07-05T09:34:04.451950",
     "exception": false,
     "start_time": "2025-07-05T09:34:04.426519",
     "status": "completed"
    },
    "tags": []
   },
   "outputs": [],
   "source": [
    "#lets bin these columns\n",
    "# Define custom bin edges\n",
    "bins = [-1, 0, 5, 10, 20, 50, 100, float('inf')]  \n",
    "labels = ['0', '1-5', '6-10', '11-20', '21-50', '51-100', '100+']\n",
    "# Create a new binned column\n",
    "data['wounded_range'] = pd.cut(data['num_wounded'], bins=bins, labels=labels, right=True)"
   ]
  },
  {
   "cell_type": "code",
   "execution_count": 65,
   "id": "d6c8fa3f",
   "metadata": {
    "execution": {
     "iopub.execute_input": "2025-07-05T09:34:04.483755Z",
     "iopub.status.busy": "2025-07-05T09:34:04.482879Z",
     "iopub.status.idle": "2025-07-05T09:34:04.489208Z",
     "shell.execute_reply": "2025-07-05T09:34:04.488444Z"
    },
    "papermill": {
     "duration": 0.023438,
     "end_time": "2025-07-05T09:34:04.490515",
     "exception": false,
     "start_time": "2025-07-05T09:34:04.467077",
     "status": "completed"
    },
    "tags": []
   },
   "outputs": [
    {
     "data": {
      "text/plain": [
       "['0', '1-5', '6-10', '11-20', '21-50', '100+', '51-100']\n",
       "Categories (7, object): ['0' < '1-5' < '6-10' < '11-20' < '21-50' < '51-100' < '100+']"
      ]
     },
     "execution_count": 65,
     "metadata": {},
     "output_type": "execute_result"
    }
   ],
   "source": [
    "data['wounded_range'].unique()"
   ]
  },
  {
   "cell_type": "markdown",
   "id": "35be56ab",
   "metadata": {
    "papermill": {
     "duration": 0.014556,
     "end_time": "2025-07-05T09:34:04.520058",
     "exception": false,
     "start_time": "2025-07-05T09:34:04.505502",
     "status": "completed"
    },
    "tags": []
   },
   "source": [
    "The num_wounded column was binned into categorical ranges using pd.cut(). \n",
    "Custom bins were defined to group the number of people wounded into \n",
    "intervals like '1–5', '6–10', up to '100+'. \n",
    "This transformation simplifies the numeric feature into meaningful \n",
    "categories, making it easier to analyze casualty severity levels and\n",
    "potentially improve model interpretability."
   ]
  },
  {
   "cell_type": "code",
   "execution_count": 66,
   "id": "fda6ef09",
   "metadata": {
    "execution": {
     "iopub.execute_input": "2025-07-05T09:34:04.551702Z",
     "iopub.status.busy": "2025-07-05T09:34:04.551394Z",
     "iopub.status.idle": "2025-07-05T09:34:04.555162Z",
     "shell.execute_reply": "2025-07-05T09:34:04.554337Z"
    },
    "papermill": {
     "duration": 0.021847,
     "end_time": "2025-07-05T09:34:04.556697",
     "exception": false,
     "start_time": "2025-07-05T09:34:04.534850",
     "status": "completed"
    },
    "tags": []
   },
   "outputs": [],
   "source": [
    "#lets make new column name casuality by combining num_killed and num_wounded"
   ]
  },
  {
   "cell_type": "code",
   "execution_count": 67,
   "id": "0ae8b4d1",
   "metadata": {
    "execution": {
     "iopub.execute_input": "2025-07-05T09:34:04.589637Z",
     "iopub.status.busy": "2025-07-05T09:34:04.589198Z",
     "iopub.status.idle": "2025-07-05T09:34:04.594654Z",
     "shell.execute_reply": "2025-07-05T09:34:04.593791Z"
    },
    "papermill": {
     "duration": 0.023492,
     "end_time": "2025-07-05T09:34:04.595926",
     "exception": false,
     "start_time": "2025-07-05T09:34:04.572434",
     "status": "completed"
    },
    "tags": []
   },
   "outputs": [],
   "source": [
    "data['casualty'] = data['num_killed'] + data['num_wounded']"
   ]
  },
  {
   "cell_type": "code",
   "execution_count": 68,
   "id": "bb20de3d",
   "metadata": {
    "execution": {
     "iopub.execute_input": "2025-07-05T09:34:04.628263Z",
     "iopub.status.busy": "2025-07-05T09:34:04.627980Z",
     "iopub.status.idle": "2025-07-05T09:34:04.639414Z",
     "shell.execute_reply": "2025-07-05T09:34:04.638421Z"
    },
    "papermill": {
     "duration": 0.028714,
     "end_time": "2025-07-05T09:34:04.640998",
     "exception": false,
     "start_time": "2025-07-05T09:34:04.612284",
     "status": "completed"
    },
    "tags": []
   },
   "outputs": [
    {
     "data": {
      "text/html": [
       "<div>\n",
       "<style scoped>\n",
       "    .dataframe tbody tr th:only-of-type {\n",
       "        vertical-align: middle;\n",
       "    }\n",
       "\n",
       "    .dataframe tbody tr th {\n",
       "        vertical-align: top;\n",
       "    }\n",
       "\n",
       "    .dataframe thead th {\n",
       "        text-align: right;\n",
       "    }\n",
       "</style>\n",
       "<table border=\"1\" class=\"dataframe\">\n",
       "  <thead>\n",
       "    <tr style=\"text-align: right;\">\n",
       "      <th></th>\n",
       "      <th>num_killed</th>\n",
       "      <th>num_wounded</th>\n",
       "      <th>casualty</th>\n",
       "    </tr>\n",
       "  </thead>\n",
       "  <tbody>\n",
       "    <tr>\n",
       "      <th>0</th>\n",
       "      <td>1.0</td>\n",
       "      <td>0.0</td>\n",
       "      <td>1.0</td>\n",
       "    </tr>\n",
       "    <tr>\n",
       "      <th>1</th>\n",
       "      <td>0.0</td>\n",
       "      <td>0.0</td>\n",
       "      <td>0.0</td>\n",
       "    </tr>\n",
       "    <tr>\n",
       "      <th>5</th>\n",
       "      <td>0.0</td>\n",
       "      <td>0.0</td>\n",
       "      <td>0.0</td>\n",
       "    </tr>\n",
       "    <tr>\n",
       "      <th>6</th>\n",
       "      <td>0.0</td>\n",
       "      <td>0.0</td>\n",
       "      <td>0.0</td>\n",
       "    </tr>\n",
       "    <tr>\n",
       "      <th>8</th>\n",
       "      <td>0.0</td>\n",
       "      <td>0.0</td>\n",
       "      <td>0.0</td>\n",
       "    </tr>\n",
       "    <tr>\n",
       "      <th>...</th>\n",
       "      <td>...</td>\n",
       "      <td>...</td>\n",
       "      <td>...</td>\n",
       "    </tr>\n",
       "    <tr>\n",
       "      <th>181683</th>\n",
       "      <td>6.0</td>\n",
       "      <td>0.0</td>\n",
       "      <td>6.0</td>\n",
       "    </tr>\n",
       "    <tr>\n",
       "      <th>181684</th>\n",
       "      <td>0.0</td>\n",
       "      <td>0.0</td>\n",
       "      <td>0.0</td>\n",
       "    </tr>\n",
       "    <tr>\n",
       "      <th>181686</th>\n",
       "      <td>1.0</td>\n",
       "      <td>2.0</td>\n",
       "      <td>3.0</td>\n",
       "    </tr>\n",
       "    <tr>\n",
       "      <th>181687</th>\n",
       "      <td>2.0</td>\n",
       "      <td>7.0</td>\n",
       "      <td>9.0</td>\n",
       "    </tr>\n",
       "    <tr>\n",
       "      <th>181688</th>\n",
       "      <td>0.0</td>\n",
       "      <td>0.0</td>\n",
       "      <td>0.0</td>\n",
       "    </tr>\n",
       "  </tbody>\n",
       "</table>\n",
       "<p>98909 rows × 3 columns</p>\n",
       "</div>"
      ],
      "text/plain": [
       "        num_killed  num_wounded  casualty\n",
       "0              1.0          0.0       1.0\n",
       "1              0.0          0.0       0.0\n",
       "5              0.0          0.0       0.0\n",
       "6              0.0          0.0       0.0\n",
       "8              0.0          0.0       0.0\n",
       "...            ...          ...       ...\n",
       "181683         6.0          0.0       6.0\n",
       "181684         0.0          0.0       0.0\n",
       "181686         1.0          2.0       3.0\n",
       "181687         2.0          7.0       9.0\n",
       "181688         0.0          0.0       0.0\n",
       "\n",
       "[98909 rows x 3 columns]"
      ]
     },
     "execution_count": 68,
     "metadata": {},
     "output_type": "execute_result"
    }
   ],
   "source": [
    "data[['num_killed','num_wounded','casualty']]"
   ]
  },
  {
   "cell_type": "code",
   "execution_count": 69,
   "id": "70bc410f",
   "metadata": {
    "execution": {
     "iopub.execute_input": "2025-07-05T09:34:04.672554Z",
     "iopub.status.busy": "2025-07-05T09:34:04.672269Z",
     "iopub.status.idle": "2025-07-05T09:34:04.679283Z",
     "shell.execute_reply": "2025-07-05T09:34:04.678497Z"
    },
    "papermill": {
     "duration": 0.024288,
     "end_time": "2025-07-05T09:34:04.680507",
     "exception": false,
     "start_time": "2025-07-05T09:34:04.656219",
     "status": "completed"
    },
    "tags": []
   },
   "outputs": [
    {
     "data": {
      "text/plain": [
       "0"
      ]
     },
     "execution_count": 69,
     "metadata": {},
     "output_type": "execute_result"
    }
   ],
   "source": [
    "data['casualty'].isnull().sum()"
   ]
  },
  {
   "cell_type": "code",
   "execution_count": 70,
   "id": "723a5e25",
   "metadata": {
    "execution": {
     "iopub.execute_input": "2025-07-05T09:34:04.712416Z",
     "iopub.status.busy": "2025-07-05T09:34:04.712127Z",
     "iopub.status.idle": "2025-07-05T09:34:04.717455Z",
     "shell.execute_reply": "2025-07-05T09:34:04.716744Z"
    },
    "papermill": {
     "duration": 0.022717,
     "end_time": "2025-07-05T09:34:04.718745",
     "exception": false,
     "start_time": "2025-07-05T09:34:04.696028",
     "status": "completed"
    },
    "tags": []
   },
   "outputs": [
    {
     "data": {
      "text/plain": [
       "Index(['year', 'month', 'multi_day_attack', 'country', 'region',\n",
       "       'attack_successful', 'suicide_attack', 'attack_type',\n",
       "       'primary_target_type', 'responsibility_claimed', 'weapon_type',\n",
       "       'num_killed', 'num_wounded', 'property_damage', 'hostage_or_kidnapping',\n",
       "       'terrorist_group_encoded', 'encoded_country', 'encoded_region',\n",
       "       'encoded_attack_type', 'encoded_primary_target_type',\n",
       "       'encoded_weapon_type', 'kill_range', 'wounded_range', 'casualty'],\n",
       "      dtype='object')"
      ]
     },
     "execution_count": 70,
     "metadata": {},
     "output_type": "execute_result"
    }
   ],
   "source": [
    "data.columns"
   ]
  },
  {
   "cell_type": "code",
   "execution_count": 71,
   "id": "82debdda",
   "metadata": {
    "execution": {
     "iopub.execute_input": "2025-07-05T09:34:04.751681Z",
     "iopub.status.busy": "2025-07-05T09:34:04.751364Z",
     "iopub.status.idle": "2025-07-05T09:34:04.761444Z",
     "shell.execute_reply": "2025-07-05T09:34:04.760539Z"
    },
    "papermill": {
     "duration": 0.028636,
     "end_time": "2025-07-05T09:34:04.762998",
     "exception": false,
     "start_time": "2025-07-05T09:34:04.734362",
     "status": "completed"
    },
    "tags": []
   },
   "outputs": [],
   "source": [
    "#removing orginal columns after encodeding\n",
    "\n",
    "columns_to_drop = ['country', 'region', 'attack_type', 'primary_target_type', 'weapon_type']\n",
    "data.drop(columns=[col for col in columns_to_drop if col in data.columns], inplace=True)\n"
   ]
  },
  {
   "cell_type": "code",
   "execution_count": 72,
   "id": "85ba2c2f",
   "metadata": {
    "execution": {
     "iopub.execute_input": "2025-07-05T09:34:04.795388Z",
     "iopub.status.busy": "2025-07-05T09:34:04.795110Z",
     "iopub.status.idle": "2025-07-05T09:34:04.800240Z",
     "shell.execute_reply": "2025-07-05T09:34:04.799614Z"
    },
    "papermill": {
     "duration": 0.022887,
     "end_time": "2025-07-05T09:34:04.801511",
     "exception": false,
     "start_time": "2025-07-05T09:34:04.778624",
     "status": "completed"
    },
    "tags": []
   },
   "outputs": [
    {
     "data": {
      "text/plain": [
       "(98909, 19)"
      ]
     },
     "execution_count": 72,
     "metadata": {},
     "output_type": "execute_result"
    }
   ],
   "source": [
    "data.shape"
   ]
  },
  {
   "cell_type": "code",
   "execution_count": 73,
   "id": "5bdec0a2",
   "metadata": {
    "execution": {
     "iopub.execute_input": "2025-07-05T09:34:04.833909Z",
     "iopub.status.busy": "2025-07-05T09:34:04.833629Z",
     "iopub.status.idle": "2025-07-05T09:34:04.848816Z",
     "shell.execute_reply": "2025-07-05T09:34:04.847780Z"
    },
    "papermill": {
     "duration": 0.03346,
     "end_time": "2025-07-05T09:34:04.850474",
     "exception": false,
     "start_time": "2025-07-05T09:34:04.817014",
     "status": "completed"
    },
    "tags": []
   },
   "outputs": [
    {
     "name": "stdout",
     "output_type": "stream",
     "text": [
      "<class 'pandas.core.frame.DataFrame'>\n",
      "Index: 98909 entries, 0 to 181688\n",
      "Data columns (total 19 columns):\n",
      " #   Column                       Non-Null Count  Dtype   \n",
      "---  ------                       --------------  -----   \n",
      " 0   year                         98909 non-null  int64   \n",
      " 1   month                        98909 non-null  int64   \n",
      " 2   multi_day_attack             98909 non-null  int64   \n",
      " 3   attack_successful            98909 non-null  int64   \n",
      " 4   suicide_attack               98909 non-null  int64   \n",
      " 5   responsibility_claimed       98909 non-null  float64 \n",
      " 6   num_killed                   98909 non-null  float64 \n",
      " 7   num_wounded                  98909 non-null  float64 \n",
      " 8   property_damage              98909 non-null  int64   \n",
      " 9   hostage_or_kidnapping        98909 non-null  float64 \n",
      " 10  terrorist_group_encoded      98909 non-null  int64   \n",
      " 11  encoded_country              98909 non-null  int64   \n",
      " 12  encoded_region               98909 non-null  int64   \n",
      " 13  encoded_attack_type          98909 non-null  int64   \n",
      " 14  encoded_primary_target_type  98909 non-null  int64   \n",
      " 15  encoded_weapon_type          98909 non-null  int64   \n",
      " 16  kill_range                   98909 non-null  category\n",
      " 17  wounded_range                98909 non-null  category\n",
      " 18  casualty                     98909 non-null  float64 \n",
      "dtypes: category(2), float64(5), int64(12)\n",
      "memory usage: 13.8 MB\n"
     ]
    }
   ],
   "source": [
    "data.info()"
   ]
  },
  {
   "cell_type": "code",
   "execution_count": 74,
   "id": "911e23c0",
   "metadata": {
    "execution": {
     "iopub.execute_input": "2025-07-05T09:34:04.883103Z",
     "iopub.status.busy": "2025-07-05T09:34:04.882804Z",
     "iopub.status.idle": "2025-07-05T09:34:04.889278Z",
     "shell.execute_reply": "2025-07-05T09:34:04.888402Z"
    },
    "papermill": {
     "duration": 0.024255,
     "end_time": "2025-07-05T09:34:04.890910",
     "exception": false,
     "start_time": "2025-07-05T09:34:04.866655",
     "status": "completed"
    },
    "tags": []
   },
   "outputs": [],
   "source": [
    "#kill_range: this is new feature which we made since this is in category form we will convert it to our numerical form\n",
    "label_map = {\n",
    "    '0': 0,\n",
    "    '1-5': 1,\n",
    "    '6-10': 2,\n",
    "    '11-20': 3,\n",
    "    '21-50': 4,\n",
    "    '51-100': 5,\n",
    "    '100+': 6\n",
    "}\n",
    "\n",
    "data['kill_range_encoded'] = data['kill_range'].map(label_map)"
   ]
  },
  {
   "cell_type": "code",
   "execution_count": 75,
   "id": "eae353db",
   "metadata": {
    "execution": {
     "iopub.execute_input": "2025-07-05T09:34:04.924377Z",
     "iopub.status.busy": "2025-07-05T09:34:04.924100Z",
     "iopub.status.idle": "2025-07-05T09:34:04.929925Z",
     "shell.execute_reply": "2025-07-05T09:34:04.929175Z"
    },
    "papermill": {
     "duration": 0.024349,
     "end_time": "2025-07-05T09:34:04.931559",
     "exception": false,
     "start_time": "2025-07-05T09:34:04.907210",
     "status": "completed"
    },
    "tags": []
   },
   "outputs": [],
   "source": [
    "#wounded_range: we will do same for this column\n",
    "label_map = {\n",
    "    '0': 0,\n",
    "    '1-5': 1,\n",
    "    '6-10': 2,\n",
    "    '11-20': 3,\n",
    "    '21-50': 4,\n",
    "    '51-100': 5,\n",
    "    '100+': 6\n",
    "}\n",
    "\n",
    "data['wounded_range_encoded'] = data['wounded_range'].map(label_map)"
   ]
  },
  {
   "cell_type": "markdown",
   "id": "ac91ec45",
   "metadata": {
    "papermill": {
     "duration": 0.016653,
     "end_time": "2025-07-05T09:34:04.963784",
     "exception": false,
     "start_time": "2025-07-05T09:34:04.947131",
     "status": "completed"
    },
    "tags": []
   },
   "source": [
    "The kill_range,wounded_range categorical columns was converted to numeric \n",
    "format using a custom mapping (label_map).\n",
    "Each bin label (e.g., '1-5', '6-10', etc.) was assigned an integer \n",
    "from 0 to 6 in increasing order of severity. \n",
    "This ordinal encoding makes the data suitable for machine learning models \n",
    "that require numeric input while preserving the natural order of the categories"
   ]
  },
  {
   "cell_type": "code",
   "execution_count": 76,
   "id": "a109c94e",
   "metadata": {
    "execution": {
     "iopub.execute_input": "2025-07-05T09:34:04.995831Z",
     "iopub.status.busy": "2025-07-05T09:34:04.995505Z",
     "iopub.status.idle": "2025-07-05T09:34:05.004148Z",
     "shell.execute_reply": "2025-07-05T09:34:05.003271Z"
    },
    "papermill": {
     "duration": 0.026535,
     "end_time": "2025-07-05T09:34:05.005707",
     "exception": false,
     "start_time": "2025-07-05T09:34:04.979172",
     "status": "completed"
    },
    "tags": []
   },
   "outputs": [],
   "source": [
    "#now we can drop kill_range and wounded_range\n",
    "data.drop(['kill_range','wounded_range'],axis = 1,inplace = True)"
   ]
  },
  {
   "cell_type": "code",
   "execution_count": 77,
   "id": "c88d50da",
   "metadata": {
    "execution": {
     "iopub.execute_input": "2025-07-05T09:34:05.038224Z",
     "iopub.status.busy": "2025-07-05T09:34:05.037944Z",
     "iopub.status.idle": "2025-07-05T09:34:05.053183Z",
     "shell.execute_reply": "2025-07-05T09:34:05.052103Z"
    },
    "papermill": {
     "duration": 0.033644,
     "end_time": "2025-07-05T09:34:05.054830",
     "exception": false,
     "start_time": "2025-07-05T09:34:05.021186",
     "status": "completed"
    },
    "tags": []
   },
   "outputs": [
    {
     "name": "stdout",
     "output_type": "stream",
     "text": [
      "<class 'pandas.core.frame.DataFrame'>\n",
      "Index: 98909 entries, 0 to 181688\n",
      "Data columns (total 19 columns):\n",
      " #   Column                       Non-Null Count  Dtype   \n",
      "---  ------                       --------------  -----   \n",
      " 0   year                         98909 non-null  int64   \n",
      " 1   month                        98909 non-null  int64   \n",
      " 2   multi_day_attack             98909 non-null  int64   \n",
      " 3   attack_successful            98909 non-null  int64   \n",
      " 4   suicide_attack               98909 non-null  int64   \n",
      " 5   responsibility_claimed       98909 non-null  float64 \n",
      " 6   num_killed                   98909 non-null  float64 \n",
      " 7   num_wounded                  98909 non-null  float64 \n",
      " 8   property_damage              98909 non-null  int64   \n",
      " 9   hostage_or_kidnapping        98909 non-null  float64 \n",
      " 10  terrorist_group_encoded      98909 non-null  int64   \n",
      " 11  encoded_country              98909 non-null  int64   \n",
      " 12  encoded_region               98909 non-null  int64   \n",
      " 13  encoded_attack_type          98909 non-null  int64   \n",
      " 14  encoded_primary_target_type  98909 non-null  int64   \n",
      " 15  encoded_weapon_type          98909 non-null  int64   \n",
      " 16  casualty                     98909 non-null  float64 \n",
      " 17  kill_range_encoded           98909 non-null  category\n",
      " 18  wounded_range_encoded        98909 non-null  category\n",
      "dtypes: category(2), float64(5), int64(12)\n",
      "memory usage: 13.8 MB\n"
     ]
    }
   ],
   "source": [
    "data.info()"
   ]
  },
  {
   "cell_type": "code",
   "execution_count": 78,
   "id": "f7282560",
   "metadata": {
    "execution": {
     "iopub.execute_input": "2025-07-05T09:34:05.088449Z",
     "iopub.status.busy": "2025-07-05T09:34:05.088180Z",
     "iopub.status.idle": "2025-07-05T09:34:05.098477Z",
     "shell.execute_reply": "2025-07-05T09:34:05.097564Z"
    },
    "papermill": {
     "duration": 0.029174,
     "end_time": "2025-07-05T09:34:05.100026",
     "exception": false,
     "start_time": "2025-07-05T09:34:05.070852",
     "status": "completed"
    },
    "tags": []
   },
   "outputs": [],
   "source": [
    "#conversion of some columns dtype into int from float or category\n",
    "data['responsibility_claimed'] = data['responsibility_claimed'].astype(int)\n",
    "data['num_killed'] = data['num_killed'].astype(int)\n",
    "data['num_wounded'] = data['num_wounded'].astype(int)\n",
    "data['hostage_or_kidnapping'] = data['hostage_or_kidnapping'].astype(int)\n",
    "data['casualty'] = data['casualty'].astype(int)\n",
    "data['kill_range_encoded'] = data['kill_range_encoded'].astype(int)\n",
    "data['wounded_range_encoded'] = data['wounded_range_encoded'].astype(int)"
   ]
  },
  {
   "cell_type": "markdown",
   "id": "6393931c",
   "metadata": {
    "papermill": {
     "duration": 0.015098,
     "end_time": "2025-07-05T09:34:05.130796",
     "exception": false,
     "start_time": "2025-07-05T09:34:05.115698",
     "status": "completed"
    },
    "tags": []
   },
   "source": [
    "Converted several columns to integer type (int) to ensure consistency in data types \n",
    "and compatibility with machine learning models. \n",
    "This step helps prevent errors during modeling and reduces memory usage \n",
    "by eliminating unnecessary float representations for whole numbers."
   ]
  },
  {
   "cell_type": "code",
   "execution_count": 79,
   "id": "811ba58f",
   "metadata": {
    "execution": {
     "iopub.execute_input": "2025-07-05T09:34:05.162256Z",
     "iopub.status.busy": "2025-07-05T09:34:05.162006Z",
     "iopub.status.idle": "2025-07-05T09:34:05.173538Z",
     "shell.execute_reply": "2025-07-05T09:34:05.172649Z"
    },
    "papermill": {
     "duration": 0.029079,
     "end_time": "2025-07-05T09:34:05.175049",
     "exception": false,
     "start_time": "2025-07-05T09:34:05.145970",
     "status": "completed"
    },
    "tags": []
   },
   "outputs": [
    {
     "data": {
      "text/html": [
       "<div>\n",
       "<style scoped>\n",
       "    .dataframe tbody tr th:only-of-type {\n",
       "        vertical-align: middle;\n",
       "    }\n",
       "\n",
       "    .dataframe tbody tr th {\n",
       "        vertical-align: top;\n",
       "    }\n",
       "\n",
       "    .dataframe thead th {\n",
       "        text-align: right;\n",
       "    }\n",
       "</style>\n",
       "<table border=\"1\" class=\"dataframe\">\n",
       "  <thead>\n",
       "    <tr style=\"text-align: right;\">\n",
       "      <th></th>\n",
       "      <th>year</th>\n",
       "      <th>month</th>\n",
       "      <th>multi_day_attack</th>\n",
       "      <th>attack_successful</th>\n",
       "      <th>suicide_attack</th>\n",
       "      <th>responsibility_claimed</th>\n",
       "      <th>num_killed</th>\n",
       "      <th>num_wounded</th>\n",
       "      <th>property_damage</th>\n",
       "      <th>hostage_or_kidnapping</th>\n",
       "      <th>terrorist_group_encoded</th>\n",
       "      <th>encoded_country</th>\n",
       "      <th>encoded_region</th>\n",
       "      <th>encoded_attack_type</th>\n",
       "      <th>encoded_primary_target_type</th>\n",
       "      <th>encoded_weapon_type</th>\n",
       "      <th>casualty</th>\n",
       "      <th>kill_range_encoded</th>\n",
       "      <th>wounded_range_encoded</th>\n",
       "    </tr>\n",
       "  </thead>\n",
       "  <tbody>\n",
       "    <tr>\n",
       "      <th>0</th>\n",
       "      <td>1970</td>\n",
       "      <td>7</td>\n",
       "      <td>0</td>\n",
       "      <td>1</td>\n",
       "      <td>0</td>\n",
       "      <td>-9</td>\n",
       "      <td>1</td>\n",
       "      <td>0</td>\n",
       "      <td>0</td>\n",
       "      <td>0</td>\n",
       "      <td>20</td>\n",
       "      <td>43</td>\n",
       "      <td>1</td>\n",
       "      <td>1</td>\n",
       "      <td>13</td>\n",
       "      <td>10</td>\n",
       "      <td>1</td>\n",
       "      <td>1</td>\n",
       "      <td>0</td>\n",
       "    </tr>\n",
       "    <tr>\n",
       "      <th>1</th>\n",
       "      <td>1970</td>\n",
       "      <td>0</td>\n",
       "      <td>0</td>\n",
       "      <td>1</td>\n",
       "      <td>0</td>\n",
       "      <td>-9</td>\n",
       "      <td>0</td>\n",
       "      <td>0</td>\n",
       "      <td>0</td>\n",
       "      <td>1</td>\n",
       "      <td>20</td>\n",
       "      <td>108</td>\n",
       "      <td>6</td>\n",
       "      <td>6</td>\n",
       "      <td>5</td>\n",
       "      <td>10</td>\n",
       "      <td>0</td>\n",
       "      <td>0</td>\n",
       "      <td>0</td>\n",
       "    </tr>\n",
       "    <tr>\n",
       "      <th>5</th>\n",
       "      <td>1970</td>\n",
       "      <td>1</td>\n",
       "      <td>0</td>\n",
       "      <td>1</td>\n",
       "      <td>0</td>\n",
       "      <td>0</td>\n",
       "      <td>0</td>\n",
       "      <td>0</td>\n",
       "      <td>1</td>\n",
       "      <td>0</td>\n",
       "      <td>20</td>\n",
       "      <td>177</td>\n",
       "      <td>6</td>\n",
       "      <td>0</td>\n",
       "      <td>12</td>\n",
       "      <td>4</td>\n",
       "      <td>0</td>\n",
       "      <td>0</td>\n",
       "      <td>0</td>\n",
       "    </tr>\n",
       "    <tr>\n",
       "      <th>6</th>\n",
       "      <td>1970</td>\n",
       "      <td>1</td>\n",
       "      <td>0</td>\n",
       "      <td>0</td>\n",
       "      <td>0</td>\n",
       "      <td>-9</td>\n",
       "      <td>0</td>\n",
       "      <td>0</td>\n",
       "      <td>0</td>\n",
       "      <td>0</td>\n",
       "      <td>20</td>\n",
       "      <td>178</td>\n",
       "      <td>7</td>\n",
       "      <td>1</td>\n",
       "      <td>12</td>\n",
       "      <td>4</td>\n",
       "      <td>0</td>\n",
       "      <td>0</td>\n",
       "      <td>0</td>\n",
       "    </tr>\n",
       "    <tr>\n",
       "      <th>8</th>\n",
       "      <td>1970</td>\n",
       "      <td>1</td>\n",
       "      <td>0</td>\n",
       "      <td>1</td>\n",
       "      <td>0</td>\n",
       "      <td>1</td>\n",
       "      <td>0</td>\n",
       "      <td>0</td>\n",
       "      <td>1</td>\n",
       "      <td>0</td>\n",
       "      <td>20</td>\n",
       "      <td>177</td>\n",
       "      <td>6</td>\n",
       "      <td>3</td>\n",
       "      <td>9</td>\n",
       "      <td>5</td>\n",
       "      <td>0</td>\n",
       "      <td>0</td>\n",
       "      <td>0</td>\n",
       "    </tr>\n",
       "  </tbody>\n",
       "</table>\n",
       "</div>"
      ],
      "text/plain": [
       "   year  month  multi_day_attack  attack_successful  suicide_attack  \\\n",
       "0  1970      7                 0                  1               0   \n",
       "1  1970      0                 0                  1               0   \n",
       "5  1970      1                 0                  1               0   \n",
       "6  1970      1                 0                  0               0   \n",
       "8  1970      1                 0                  1               0   \n",
       "\n",
       "   responsibility_claimed  num_killed  num_wounded  property_damage  \\\n",
       "0                      -9           1            0                0   \n",
       "1                      -9           0            0                0   \n",
       "5                       0           0            0                1   \n",
       "6                      -9           0            0                0   \n",
       "8                       1           0            0                1   \n",
       "\n",
       "   hostage_or_kidnapping  terrorist_group_encoded  encoded_country  \\\n",
       "0                      0                       20               43   \n",
       "1                      1                       20              108   \n",
       "5                      0                       20              177   \n",
       "6                      0                       20              178   \n",
       "8                      0                       20              177   \n",
       "\n",
       "   encoded_region  encoded_attack_type  encoded_primary_target_type  \\\n",
       "0               1                    1                           13   \n",
       "1               6                    6                            5   \n",
       "5               6                    0                           12   \n",
       "6               7                    1                           12   \n",
       "8               6                    3                            9   \n",
       "\n",
       "   encoded_weapon_type  casualty  kill_range_encoded  wounded_range_encoded  \n",
       "0                   10         1                   1                      0  \n",
       "1                   10         0                   0                      0  \n",
       "5                    4         0                   0                      0  \n",
       "6                    4         0                   0                      0  \n",
       "8                    5         0                   0                      0  "
      ]
     },
     "execution_count": 79,
     "metadata": {},
     "output_type": "execute_result"
    }
   ],
   "source": [
    "data.head()"
   ]
  },
  {
   "cell_type": "code",
   "execution_count": null,
   "id": "ac39123a",
   "metadata": {
    "papermill": {
     "duration": 0.01536,
     "end_time": "2025-07-05T09:34:05.206689",
     "exception": false,
     "start_time": "2025-07-05T09:34:05.191329",
     "status": "completed"
    },
    "tags": []
   },
   "outputs": [],
   "source": []
  }
 ],
 "metadata": {
  "kaggle": {
   "accelerator": "none",
   "dataSources": [
    {
     "datasetId": 504,
     "sourceId": 95812,
     "sourceType": "datasetVersion"
    }
   ],
   "dockerImageVersionId": 31040,
   "isGpuEnabled": false,
   "isInternetEnabled": true,
   "language": "python",
   "sourceType": "notebook"
  },
  "kernelspec": {
   "display_name": "Python 3",
   "language": "python",
   "name": "python3"
  },
  "language_info": {
   "codemirror_mode": {
    "name": "ipython",
    "version": 3
   },
   "file_extension": ".py",
   "mimetype": "text/x-python",
   "name": "python",
   "nbconvert_exporter": "python",
   "pygments_lexer": "ipython3",
   "version": "3.11.11"
  },
  "papermill": {
   "default_parameters": {},
   "duration": 20.401365,
   "end_time": "2025-07-05T09:34:05.841858",
   "environment_variables": {},
   "exception": null,
   "input_path": "__notebook__.ipynb",
   "output_path": "__notebook__.ipynb",
   "parameters": {},
   "start_time": "2025-07-05T09:33:45.440493",
   "version": "2.6.0"
  }
 },
 "nbformat": 4,
 "nbformat_minor": 5
}
